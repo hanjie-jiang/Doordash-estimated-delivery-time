{
 "cells": [
  {
   "cell_type": "markdown",
   "id": "3b3a0e85",
   "metadata": {},
   "source": [
    "# Food Delivery Time Prediction Project"
   ]
  },
  {
   "cell_type": "markdown",
   "id": "c043f469",
   "metadata": {},
   "source": [
    "Hanjie Jiang, 11/09/2021 - 11/19/2021"
   ]
  },
  {
   "cell_type": "markdown",
   "id": "7c4200bd",
   "metadata": {},
   "source": [
    "# Table of Contents\n",
    "1. [Overview](#overview)\n",
    "    1. [From the `Machine_Learning_Data_Science_project_prompt.pdf` file](#requirement)\n",
    "2. [Business Problem Understanding, Assumptions & Real-life Food Delivery Case Study](#problem)\n",
    "    1. [Business Problem Understanding](#understanding)\n",
    "    2. [Model Simplification with Assumptions](#assumption)\n",
    "    3. [Factors/Features Affecting a Real-Life Food Delivery: Case Study](#case)\n",
    "3. [Data Browsing & Features in the Dataset](#dataset)\n",
    "    1. [From the `data_description.txt` file](#explain)\n",
    "    2. [Features in the Dataset and Correspondence to the Real-life Factors](#factor)\n",
    "4. [Initial Dataset Processing](#process)\n",
    "    1. [Package Loading](#package)\n",
    "    2. [Dataset Importing and Browsing](#browsing)\n",
    "    3. [Discussion on the Missing Value Treatments](#discuss-treat)\n",
    "    4. [Missing Value and Negative Value Processing](#missing)\n",
    "    5. [Feature Engineering & Additional Feature Creation](#creation)\n",
    "5. [Data Analysis](#analysis)\n",
    "    1. [Univariate](#univariate)\n",
    "        1. [Categorical Columns](#categorical)\n",
    "        2. [Numerical Columns](#numerical)\n",
    "    2. [Multivariate](#multivariate)\n",
    "6. [Machine Learning Model](#mlmodel)\n",
    "    1. [Discussion on Model Selection](#selection)\n",
    "    2. [Data and Function Preparation for ML Models](#prepare)\n",
    "    3. [Linear Regression Model](#lrmodel)\n",
    "    4. [Lasso Regression Model](#lasso)\n",
    "    5. [Random Forest Model](#randfor)\n",
    "        1. [Step 1: Hyperparameter Tuning for Random Forest](#hyper_randfor)\n",
    "        2. [Step 2: Evaluation using the Optimal Random Forest Model](#eval_randfor)\n",
    "    6. [XGBoost Algorithm](#xgboost)\n",
    "        1. [Step 1: Hyperparameter Tuning for XGBoost](#hyper_xgboost)\n",
    "        2. [Step 2: Evaluation using the Optimal XGBoost Model](#eval_xgboost)\n",
    "    7. [Model Comparison](#model_comp)\n",
    "7. [Test set prediction](#test_pred)"
   ]
  },
  {
   "cell_type": "markdown",
   "id": "2dd5b2c2",
   "metadata": {},
   "source": [
    "## Overview <a name=\"overview\"></a>\n",
    "\n",
    "\n",
    "### From the `Machine_Learning_Data_Science_project_prompt.pdf` file: <a name=\"requirement\"></a>\n",
    "\n",
    "<font color='grey'>\n",
    "\n",
    "### Introduction\n",
    "\n",
    "We require candidates to **meet a high bar** on this assignment to **advance to the final round onsite**, so we would encourage you to demonstrate the full extent of your data science toolkit. We will look at **more than just your performance on the test set**. <br>\n",
    "\n",
    "In particular, you will be evaluated on the following:<br>\n",
    "1. The quality of your data science process - **data pre-processing**, **feature engineering**, **model selection**, etc. Please **make sure to show all of your work!**\n",
    "2. **Your algorithm’s performance on a test set** where labels are withheld, evaluated on expected business impact.\n",
    "3. The quality & insightfulness of **your written report** (see requirements below).\n",
    "\n",
    "### Project Description\n",
    "\n",
    "Before a consumer places an order on DoorDash, we show the **expected delivery time**. It is very important for DoorDash to get this right, as it has a big impact on consumer experience. Order lateness / underprediction of delivery time is of particular concern as past experiments suggest that **underestimating delivery time is roughly twice as costly as overestimating it.** Orders that are **very early / late** are also much worse than those that are only **slightly early / late.** In this exercise, you will build a model to predict the estimated time taken for a delivery.\n",
    "<br>\n",
    "\n",
    "Concretely, for a given delivery you must predict the **total delivery duration seconds**, i.e., the time from: \n",
    "<br>\n",
    "\n",
    "● Start: the time consumer submits the order (`created_at`) to<br>\n",
    "● End: when the order will be delivered to the consumer (`actual_delivery_time`).\n",
    "\n",
    "<br>\n",
    "To help with this, we have provided:\n",
    "\n",
    "<br>\n",
    "● historical_data.csv: table of historical deliveries (your training set)<br>\n",
    "● data_to_predict.csv: data for deliveries that you must predict (label-free test set we will use for evaluation)<br>\n",
    "● data_description.txt: description of all columns in historical_data.csv and details of data_to_predict.csv\n",
    "\n",
    "### Requirements\n",
    "\n",
    "1. Build a model to predict the **total delivery duration seconds** (as defined above). You’ll likely find it helpful to **generate additional features from the given data to improve model performance.**\n",
    "<br>\n",
    "2. Output predictions on the instances in **data_to_predict.csv** — we will use the results here to evaluate your model\n",
    "<br>\n",
    "3. Write a **short report (typically 1-2 pages)** on the **problem, your approach, and results** containing:\n",
    "\n",
    "    a. A high-level **business summary** explaining the **key results to semi-technical readers**. Include some\n",
    "    **feature interpretation** and highlight the **model’s performance relative to what is likely feasible**.<br>\n",
    "    \n",
    "    b. A list of **3-5 features you believe would improve** model performance if included in the training set.\n",
    "    Please clearly **articulate the value you believe adding these features would drive** for the business.<br>\n",
    "    \n",
    "    c. Assume the model you designed would replace a model already in production. How would you **assess your model’s performance** relative to that of its predecessor **before replacing** the previous model?\n",
    "    Please do not write about your modeling process - this is covered in the code submission.\n",
    "    \n",
    "### Deliverables\n",
    "1. Your code / **jupyter notebook**\n",
    "2. Predictions for deliveries in data_to_predict.csv.\n",
    "    Should contain rows of the form **<delivery_id>,<predicted_duration>**\n",
    "3. **Your report**\n",
    "    \n",
    "</font>"
   ]
  },
  {
   "attachments": {},
   "cell_type": "markdown",
   "id": "abb77f91",
   "metadata": {},
   "source": [
    "## Business Problem Understanding, Assumptions & Real-life Food Delivery Case Study<a name=\"problem\"></a>\n",
    "\n",
    "### Business Problem Understanding<a name=\"understanding\"></a>\n",
    "\n",
    "1. **Machine Learning Problem:** Regression (Continuous target values) predictions\n",
    "<br>\n",
    "\n",
    "2. **Objective:** Predicting the estimated **total delivery time (in seconds)** from factors that **DoorDash has control over**. <span style=\"background-color:#eef0c8\">Hence, **the primary quantity of interest that we care about is the amount of time that we need after the customer creates the order up until the order has been delivered**</span>: \n",
    "<br>\n",
    "\n",
    "$\n",
    "\\begin{align}\n",
    "\\text{total delivery time} &= \\text{looking-for-dasher time} + \\text{driving-to-store time} \\\\\n",
    "                            &+ \\text{waiting-for-food time} + \\text{store-to-customer time} + \\text{drop-off time}  \\tag{1}\n",
    "\\end{align}\n",
    "$\n",
    "\n",
    "### Model Simplification with Assumptions<a name=\"assumption\"></a>\n",
    "\n",
    "1. Assuming $\\text{drop-off time}$ is negligible since more often people will either choose no-contact delivery or leave-at-the-front-door options for simplicity. Even when instructions were not given, when the dasher calls, the customer will direct the dasher to a convenient place for the dasher to leave the delivery at. In other words,  **$\\text{drop-off time} = 0$** in the equation (1) above.\n",
    "<br>\n",
    "\n",
    "Hence, equation (1) after simplified can be written as:\n",
    "\n",
    "$\n",
    "\\begin{align}\n",
    "\\text{total delivery time} &= \\text{looking-for-dasher time} + \\text{driving-to-store time} \\\\\n",
    "                            &+ \\text{waiting-for-food time} + \\text{store-to-customer time} \\tag{2}\n",
    "\\end{align}\n",
    "$\n",
    "\n",
    "<br>\n",
    "\n",
    "### Factors/Features Affecting a Real-Life Food Delivery: Case Study<a name=\"case\"></a>\n",
    "\n",
    "Features that may affect the total food delivery time have to **directly, or indirectly, affect either the looking-for-dasher time, driving-to-store time,waiting-for-food time or store-to-customer time.** Therefore, features/factors are categorized based on the different part of the dashers' journey that they have impacts on:\n",
    "\n",
    "**Features that may affect <font color='blue'>\"looking-for-dasher time\"</font>:**\n",
    "<br>\n",
    "- Demand (Customer):\n",
    "    1. **Order time** during the day (morning, noon, afternoon, evening, late night): <font color='red'>needs to change the UTC time to local (Pacific) time</font> <br>\n",
    "    2. **Which day** of the week (weekdays vs. weekends)<br>\n",
    "    3. **Which month** of the year (April vs. September, i.e. Sports Seasons)\n",
    "    4. Whether the customer orders on a **holiday** (Holiday vs. non-holiday)\n",
    "<br>\n",
    "- Supply (Dasher):\n",
    "    1. **How many Dashers On the Road**\n",
    "    2. **Total Busy Dashers and Total Available Dashers**\n",
    "    3. **Total Orders that need to be delivered within the Area**\n",
    "\n",
    "**Features that may affect <font color='blue'>\"driving-to-store time\"</font>:**\n",
    "- Distance between the dasher's current location and the store\n",
    "- Traffic on the route between the dasher's current location and the store\n",
    "\n",
    "**Features that may affect <font color='blue'>\"waiting-for-food time\"</font>:**\n",
    "- Customer:\n",
    "   1. **Order Size** can be a good indicator of how long it will take the store to prepare the order. If the order size is large enough, we may encounter situations where the dasher may arrive at the store before the food comes out.\n",
    "<br>\n",
    "- Store:\n",
    "   1. **Type of food** the store makes can indicate how fast the food comes out. A pizza store like <em>Domino's</em> or fast food chain like <em>McDonald's</em> is expected to prepare the order much faster than a fine dining place or a steak house.\n",
    "\n",
    "**Features that may affect <font color='blue'>\"store-to-customer time\"</font>:**\n",
    "- Traffic on the route between the store and the customer's place\n",
    "- Distance between the store and the customer's place"
   ]
  },
  {
   "cell_type": "markdown",
   "id": "8a1c4e40",
   "metadata": {},
   "source": [
    "## Data Browsing & Features in the Dataset<a name=\"dataset\"></a>\n",
    "\n",
    "### From the `data_description.txt` file:<a name=\"explain\"></a>\n",
    "\n",
    "<font color='grey'>\n",
    "\n",
    "#### Data description #### \n",
    "The attached file `historical_data.csv` contains a subset of deliveries received at DoorDash in **early 2015 in a subset of the cities.** Each row in this file corresponds to one unique delivery. Each column corresponds to a feature as explained below. Note all money (dollar) values given in the data are **in cents** and all time duration values given are **in seconds**.\n",
    "The target value to predict here is the **total seconds value between `created_at` and `actual_delivery_time`**. \n",
    "\n",
    "We have added noise to the dataset to obfuscate certain business details. Both `historical_data.csv` and `predict_data.csv` include similar noise. We will only be evaluating your model's performance on this noisy, artificial dataset. The baseline model we will compare it was also trained and evaluated on the same noisy dataset.\n",
    "\n",
    "#### Columns in historical_data.csv\n",
    "\n",
    "### Time features\n",
    "market_id: A city/region in which DoorDash operates, e.g., Los Angeles, given in the data as an id<br>\n",
    "created_at: **Timestamp in UTC** when the order was submitted by the consumer to DoorDash. (Note this timestamp is in UTC, but in case you need it, **the actual timezone of the region was US/Pacific**)<br>\n",
    "actual_delivery_time: **Timestamp in UTC** when the order was delivered to the consumer\n",
    "\n",
    "### Store features \n",
    "store_id: an **id representing the restaurant** the order was submitted for\n",
    "\n",
    "### Order features\n",
    "subtotal: **total value** of the order submitted (in cents)\n",
    "\n",
    "### Market features\n",
    "DoorDash being a marketplace, we have information on the state of marketplace when the order is placed, that can be used to estimate delivery time. The following features are **values at the time of `created_at` (order submission time)**\n",
    "<br>\n",
    "total_onshift_dashers: Number of available dashers who are **within 10 miles of the store** at the time of order creation \n",
    "<br> \n",
    "total_busy_dashers: **Subset of above `total_onshift_dashers`** who are **currently working** on an order\n",
    "<br>\n",
    "total_outstanding_orders: **Number of orders within 10 miles of this order** that are currently being processed.\n",
    "\n",
    "### Predictions from other models:\n",
    "We have predictions from other models for various stages of delivery process that we can use.\n",
    "estimated_store_to_consumer_driving_duration: Estimated travel time between **store and consumer (in seconds)**\n",
    "\n",
    "\n",
    "\n",
    "#####################################################################################\n",
    "#### Data to predict #### \n",
    "Also attached here is `predict_data.csv`, which provides the new data that you must predict on using the model you build. This data was generated similar to the `historical_data.csv` and it contains the same columns as above, except for the following differences:\n",
    "  * This file does not contain `actual_delivery_time`, since that is unknown at the time of prediction\n",
    "  * This file contains `delivery_id` as additional field\n",
    "Each row of the data is one data point to predict on. Note that `predict_data.csv` contains orders from later weeks compared to `historical_data` \n",
    "</font>\n",
    "\n",
    "### Features in the Dataset and Correspondence to the Real-life Factors<a name=\"factor\"></a>\n",
    "Actual total delivery time `actual_total_time` (in seconds) can be obtained from the `created_at` and `actual_delivery_time` columns by taking the difference between the two columns. This feature is the most direct and important feature that we use to train the model. \n",
    "\n",
    "**Features that may affect <font color='blue'>\"looking-for-dasher time\"</font>:**\n",
    "<br>\n",
    "- Demand (Customer):\n",
    "    1. `created_at` and `actual_delivery_time` indicate when during the day the order is created, by creating a new feature column `order_time`. <br>\n",
    "    2. `created_at` and `actual_delivery_time`can also indicate on `which_day_of_week` (weekdays vs. weekends) the order is created <br>\n",
    "    3. `created_at` and `actual_delivery_time` features determines whether the customer orders on a `holiday` (Holiday vs. non-holiday)\n",
    "<br>\n",
    "- Supply (Dasher):\n",
    "    1. `total_onshift_dashers` provides information on **how many dashers are on the road within the area**\n",
    "    2. `total_busy_dashers` indicates the number of **Total Busy Dashers and Total Available Dashers**\n",
    "    3. `total_outstanding_orders` gives information on **Total Orders that need to be delivered within the Area**\n",
    "\n",
    "**Features that may affect <font color='blue'>\"driving-to-store time\"</font>:**\n",
    "\n",
    "Given that the dashers will only be notified if they are **within 10 miles of the store**, the distance between the dasher's current location and store is **relatively fixed**. `market_id`, on the other hand, might be a feature that can be used to **estimate the traffic on the route**, based on how large the market(city) is (`market_scale`), which can further be interpreted from the number of `store_id` within the market. \n",
    "\n",
    "- Distance between the dasher's current location and the store\n",
    "- Traffic on the route between the dasher's current location and the store\n",
    "\n",
    "**Features that may affect <font color='blue'>\"waiting-for-food time\"</font>:**\n",
    "- Customer:\n",
    "   1. **Order Size** can be effectively interpreted from the `subtotal` feature within the dataset, since in most cases, the more expensive the order is, the more items that the customer orders at a certain store.\n",
    "<br>\n",
    "- Store:\n",
    "   1. **Type of food** that the store makes can be interpreted from **the average `subtotal` per store** that the customers order from a certain store; hence a new column of `average_subtotal_per_store` might be created. When the average `subtotal` is higher, then preparation time is expected to be slower, in most cases. Further investigations are needed on this feature.\n",
    "\n",
    "**Features that may affect <font color='blue'>\"store-to-customer time\"</font>:**\n",
    "\n",
    "`estimated_store_to_consumer_driving_duration` is a direct estimation of the feature; hence, no further deduction is needed towards the store-to-customer time estimates. \n",
    "\n",
    "- Traffic on the route between the store and the customer's place\n",
    "- Distance between the store and the customer's place\n",
    "\n",
    "\n",
    "<span style=\"background-color:#eef0c8\">**Summarizing the features that need to be added into the dataset, six new columns are needed for better predictions to be made, including `actual_total_time`, `average_subtotal_per_store`, `order_time`, `which_day_of_week`,  `holiday`, `estimated_food_prepare_time` and `market_scale`.**</span>"
   ]
  },
  {
   "cell_type": "markdown",
   "id": "f3e2da3e",
   "metadata": {},
   "source": [
    "## Initial Dataset Processing<a name=\"process\"></a>"
   ]
  },
  {
   "cell_type": "markdown",
   "id": "98d3fe3b",
   "metadata": {},
   "source": [
    "### Package Loading<a name=\"package\"></a>"
   ]
  },
  {
   "cell_type": "code",
   "execution_count": 1,
   "id": "5b39eed1",
   "metadata": {},
   "outputs": [],
   "source": [
    "# basic libraries/packages for math and data processing\n",
    "import pandas as pd\n",
    "import numpy as np\n",
    "import statistics\n",
    "import scipy.stats as scs\n",
    "import scipy.stats as stats\n",
    "import statsmodels.api as sm\n",
    "from math import sqrt\n",
    "\n",
    "# functions within sklearn\n",
    "from sklearn import metrics\n",
    "from sklearn import tree\n",
    "from sklearn.model_selection import train_test_split, cross_val_score, KFold, \\\n",
    "                                    GridSearchCV, cross_validate, RepeatedKFold, RandomizedSearchCV\n",
    "from sklearn.metrics import mean_squared_error, r2_score, mean_absolute_error, \\\n",
    "                        mean_absolute_percentage_error, confusion_matrix, classification_report\n",
    "from sklearn.neural_network import MLPClassifier\n",
    "from sklearn.linear_model import LinearRegression, Lasso\n",
    "from sklearn.ensemble import RandomForestRegressor\n",
    "from sklearn.inspection import permutation_importance\n",
    "\n",
    "# from xgboost\n",
    "import xgboost as xgb\n",
    "\n",
    "# plotting\n",
    "%matplotlib inline\n",
    "import matplotlib.pyplot as plt\n",
    "import seaborn as sns \n",
    "\n",
    "# time / date libraries\n",
    "from datetime import datetime, timedelta, date, time\n",
    "import pytz\n",
    "from pandas.tseries.holiday import USFederalHolidayCalendar as calendar # check if it is a holiday"
   ]
  },
  {
   "cell_type": "markdown",
   "id": "65de0f85",
   "metadata": {},
   "source": [
    "### Dataset Importing and Browsing<a name=\"browsing\"></a>"
   ]
  },
  {
   "cell_type": "code",
   "execution_count": 2,
   "id": "b1d02d0d",
   "metadata": {},
   "outputs": [],
   "source": [
    "df_train = pd.read_csv('historical_data.csv')\n",
    "df_test = pd.read_csv('predict_data.csv')"
   ]
  },
  {
   "cell_type": "code",
   "execution_count": 3,
   "id": "8d3f048a",
   "metadata": {},
   "outputs": [
    {
     "name": "stdout",
     "output_type": "stream",
     "text": [
      "train set is of size:  (197428, 9) \n",
      "\n",
      "<class 'pandas.core.frame.DataFrame'>\n",
      "RangeIndex: 197428 entries, 0 to 197427\n",
      "Data columns (total 9 columns):\n",
      " #   Column                                        Non-Null Count   Dtype  \n",
      "---  ------                                        --------------   -----  \n",
      " 0   market_id                                     196441 non-null  float64\n",
      " 1   created_at                                    197428 non-null  object \n",
      " 2   actual_delivery_time                          197421 non-null  object \n",
      " 3   store_id                                      197428 non-null  int64  \n",
      " 4   subtotal                                      197428 non-null  int64  \n",
      " 5   total_onshift_dashers                         181166 non-null  float64\n",
      " 6   total_busy_dashers                            181166 non-null  float64\n",
      " 7   total_outstanding_orders                      181166 non-null  float64\n",
      " 8   estimated_store_to_consumer_driving_duration  196902 non-null  float64\n",
      "dtypes: float64(5), int64(2), object(2)\n",
      "memory usage: 13.6+ MB\n",
      "training set has columns:  None \n",
      "\n"
     ]
    }
   ],
   "source": [
    "print(\"train set is of size: \", df_train.shape, \"\\n\")\n",
    "print(\"training set has columns: \", df_train.info(), \"\\n\")"
   ]
  },
  {
   "cell_type": "code",
   "execution_count": 4,
   "id": "61d9b6d2",
   "metadata": {},
   "outputs": [
    {
     "name": "stdout",
     "output_type": "stream",
     "text": [
      "test set is of size:  (54778, 9) \n",
      "\n",
      "<class 'pandas.core.frame.DataFrame'>\n",
      "RangeIndex: 54778 entries, 0 to 54777\n",
      "Data columns (total 9 columns):\n",
      " #   Column                                        Non-Null Count  Dtype  \n",
      "---  ------                                        --------------  -----  \n",
      " 0   market_id                                     54528 non-null  float64\n",
      " 1   created_at                                    54778 non-null  object \n",
      " 2   store_id                                      54778 non-null  int64  \n",
      " 3   subtotal                                      54778 non-null  int64  \n",
      " 4   total_onshift_dashers                         50145 non-null  float64\n",
      " 5   total_busy_dashers                            50145 non-null  float64\n",
      " 6   total_outstanding_orders                      50145 non-null  float64\n",
      " 7   estimated_store_to_consumer_driving_duration  54767 non-null  float64\n",
      " 8   delivery_id                                   54778 non-null  int64  \n",
      "dtypes: float64(5), int64(3), object(1)\n",
      "memory usage: 3.8+ MB\n",
      "test set has columns:  None \n",
      "\n"
     ]
    }
   ],
   "source": [
    "print(\"test set is of size: \", df_test.shape, \"\\n\")\n",
    "print(\"test set has columns: \", df_test.info(), \"\\n\")"
   ]
  },
  {
   "cell_type": "code",
   "execution_count": 5,
   "id": "a905a2b7",
   "metadata": {
    "scrolled": true
   },
   "outputs": [
    {
     "name": "stdout",
     "output_type": "stream",
     "text": [
      "the training set starts from:  2014-10-19 05:24:15 up until orders created at:  2015-02-18 06:00:44\n",
      "the training set starts from:  2015-02-18 14:50:28 up until orders created at:  2015-02-25 05:59:49\n"
     ]
    }
   ],
   "source": [
    "#check data timeline\n",
    "print(\"the training set starts from: \", min(df_train['created_at']), \"up until orders created at: \", max(df_train['created_at']))\n",
    "print(\"the training set starts from: \", min(df_test['created_at']), \"up until orders created at: \", max(df_test['created_at']))"
   ]
  },
  {
   "cell_type": "markdown",
   "id": "87d68ee0",
   "metadata": {},
   "source": [
    "We are trying to use the data from 2014-10-19 to 2015-02-18 to train the models to learn about what might be happening immediately after that. **Since data are given mostly of the same season, hence, we can ignore the effect of ordering in different month of the year.** Therefore, `which_month` column will not be generated anymore."
   ]
  },
  {
   "cell_type": "code",
   "execution_count": 6,
   "id": "8c091c37",
   "metadata": {
    "scrolled": true
   },
   "outputs": [
    {
     "name": "stdout",
     "output_type": "stream",
     "text": [
      "There are  987  ( 0.5 %) NaNs in  market_id column\n",
      "There are  0  ( 0.0 %) NaNs in  created_at column\n",
      "There are  7  ( 0.0 %) NaNs in  actual_delivery_time column\n",
      "There are  0  ( 0.0 %) NaNs in  store_id column\n",
      "There are  0  ( 0.0 %) NaNs in  subtotal column\n",
      "There are  16262  ( 8.24 %) NaNs in  total_onshift_dashers column\n",
      "There are  16262  ( 8.24 %) NaNs in  total_busy_dashers column\n",
      "There are  16262  ( 8.24 %) NaNs in  total_outstanding_orders column\n",
      "There are  526  ( 0.27 %) NaNs in  estimated_store_to_consumer_driving_duration column\n"
     ]
    }
   ],
   "source": [
    "#check columns in df_train to see if there is any data missing\n",
    "# txt1 = \"My name is {fname}, I'm {age}\".format(fname = \"John\", age = 36)\n",
    "count_nan = []\n",
    "for col in df_train.columns:\n",
    "    count = len(df_train) - df_train[col].count()\n",
    "    count_nan.append(count)\n",
    "    percent = float(\"{:.2f}\".format(count/len(df_train)*100))\n",
    "    print(\"There are \", count, \" (\", percent, \"%) NaNs in \", col, \"column\")"
   ]
  },
  {
   "cell_type": "code",
   "execution_count": 7,
   "id": "2b812fa2",
   "metadata": {
    "scrolled": true
   },
   "outputs": [
    {
     "name": "stdout",
     "output_type": "stream",
     "text": [
      "There are  250  ( 0.13 %) NaNs in  market_id column\n",
      "There are  0  ( 0.0 %) NaNs in  created_at column\n",
      "There are  0  ( 0.0 %) NaNs in  store_id column\n",
      "There are  0  ( 0.0 %) NaNs in  subtotal column\n",
      "There are  4633  ( 2.35 %) NaNs in  total_onshift_dashers column\n",
      "There are  4633  ( 2.35 %) NaNs in  total_busy_dashers column\n",
      "There are  4633  ( 2.35 %) NaNs in  total_outstanding_orders column\n",
      "There are  11  ( 0.01 %) NaNs in  estimated_store_to_consumer_driving_duration column\n",
      "There are  0  ( 0.0 %) NaNs in  delivery_id column\n"
     ]
    }
   ],
   "source": [
    "#check columns in df_test to see if there is any data missing\n",
    "\n",
    "count_nan_test = []\n",
    "for col in df_test.columns:\n",
    "    count = len(df_test) - df_test[col].count()\n",
    "    count_nan_test.append(count)\n",
    "    percent = float(\"{:.2f}\".format(count/len(df_train)*100))\n",
    "    print(\"There are \", count, \" (\", percent, \"%) NaNs in \", col, \"column\")"
   ]
  },
  {
   "cell_type": "markdown",
   "id": "5fa654fc",
   "metadata": {},
   "source": [
    "A large number of data is missing in `total_onshift_dashers`, `total_busy_dashers`, `total_outstanding_orders` columns. We need to take a closer look at these three columns to check **if the data is always missing at the same time**:"
   ]
  },
  {
   "cell_type": "code",
   "execution_count": 8,
   "id": "15122dc4",
   "metadata": {
    "scrolled": true
   },
   "outputs": [
    {
     "data": {
      "text/plain": [
       "<AxesSubplot:>"
      ]
     },
     "execution_count": 8,
     "metadata": {},
     "output_type": "execute_result"
    },
    {
     "data": {
      "image/png": "[encoded data removed]",
      "text/plain": [
       "<Figure size 432x288 with 1 Axes>"
      ]
     },
     "metadata": {
      "needs_background": "light"
     },
     "output_type": "display_data"
    }
   ],
   "source": [
    "df_dasher = df_train.filter(regex='^total', axis=1)\n",
    "fig_miss_dasher, ax_miss_dasher = plt.subplots()\n",
    "#fig_miss_dasher.set_size_inches(18.5, 10.5) \n",
    "sns.heatmap(df_dasher.isnull(), cbar=False)"
   ]
  },
  {
   "cell_type": "code",
   "execution_count": 9,
   "id": "170672e1",
   "metadata": {},
   "outputs": [
    {
     "name": "stdout",
     "output_type": "stream",
     "text": [
      "all the dasher-related data are missing at the same time\n"
     ]
    }
   ],
   "source": [
    "df_or_null = df_dasher[~df_dasher['total_onshift_dashers'].notnull() | ~df_dasher['total_busy_dashers'].notnull() \\\n",
    "                  | ~df_dasher['total_outstanding_orders'].notnull()]\n",
    "df_all_null = df_dasher[~df_dasher['total_onshift_dashers'].notnull() & ~df_dasher['total_busy_dashers'].notnull() \\\n",
    "                  & ~df_dasher['total_outstanding_orders'].notnull()]\n",
    "\n",
    "if (len(df_or_null) == len(df_all_null)):\n",
    "    print(\"all the dasher-related data are missing at the same time\")\n",
    "else:\n",
    "    print(\"some data are not missing at the same time\")"
   ]
  },
  {
   "cell_type": "markdown",
   "id": "442f80cf",
   "metadata": {},
   "source": [
    "### Discussion on the Missing Value Treatments<a name=\"discuss-treat\"></a>"
   ]
  },
  {
   "cell_type": "markdown",
   "id": "10a24cf9",
   "metadata": {},
   "source": [
    "1. `market_id` column:\n",
    "    - When other market_id's are given at the same store:\n",
    "    Some of the market_id values are missing. Missing values in this column can filled up if the same store_id can be found within the same market. **Simple treatments, such as ffill() and bfill(), can be used to process the missing data in this column**.\n",
    "     \n",
    "    - When no other market_id is provided at the same store:\n",
    "    When most of the missing values are filled up, the rest of the data points with missing values are less indicative for learning the trend, since only 1 data point is generated at the store, with no knowledge of where the store locates. Hence, **These values can be dropped**.\n",
    "\n",
    "\n",
    "2. `created_at` and `actual_delivery_time` columns:\n",
    "\n",
    "    Since the primary output feature of interest is the `actual_total_time`, which has to be generated based upon the `create_at` and `actual_delivery_time` columns, when there is data missing in the `create_at` and `actual_total_time` column, it is difficult for the model to process and learn. Therefore, **we drop those data points with either of these two columns empty**.\n",
    "\n",
    "\n",
    "3. `store_id` and `subtotal` columns:\n",
    "\n",
    "    We don't have any data missing, either in training or testing set, in these two columns. No need to process the data in these two columns.\n",
    "\n",
    "\n",
    "4. `total_onshift_dashers`, `total_busy_dashers`, `total_outstanding_orders` columns:\n",
    "\n",
    "    Additional data observations were done to check if the data within these 3 columns are missing at the same time. It is determined that whenever one of the columns has data missing, the other two will have NaN values. However, the missing data of these 3 columns make up ~8% (see the print-outs above) in the training set and ~2% in the test set, therefore it is necessary for us to fill up these missing values. The most simple but effective way is to fill up the values with the **average total_onshift_dashers at same market id and created hour**.\n",
    "    \n",
    "5. `estimated_store_to_consumer_driving_duration` column:\n",
    "\n",
    "    Values from this column are of significant importance to the prediction, $i.e.$, total delivery time, due to the fact that it is a direct estimation of the store-to-consumer time. With 0.27% of the training data and 0.01% test data missing in this column, **we could drop this part of the data but approximately remain at the same level of bias and accuracy.**"
   ]
  },
  {
   "cell_type": "markdown",
   "id": "7eba25a6",
   "metadata": {},
   "source": [
    "### Missing Value and Negative Value Processing<a name=\"missing\"></a>"
   ]
  },
  {
   "cell_type": "markdown",
   "id": "cc7f2629",
   "metadata": {},
   "source": [
    "#### Missing Values"
   ]
  },
  {
   "cell_type": "markdown",
   "id": "94f5b656",
   "metadata": {},
   "source": [
    "#### `market_id` column"
   ]
  },
  {
   "cell_type": "code",
   "execution_count": 10,
   "id": "1de26b2f",
   "metadata": {
    "scrolled": false
   },
   "outputs": [
    {
     "name": "stdout",
     "output_type": "stream",
     "text": [
      "        market_id           created_at actual_delivery_time  store_id  \\\n",
      "120923        NaN  2015-02-08 03:39:46  2015-02-08 04:25:31      3258   \n",
      "152850        NaN  2015-02-08 23:43:19  2015-02-09 00:33:20      4122   \n",
      "186154        NaN  2015-02-15 23:53:45  2015-02-16 00:25:42      5774   \n",
      "\n",
      "        subtotal  total_onshift_dashers  total_busy_dashers  \\\n",
      "120923      3470                    NaN                 NaN   \n",
      "152850      3400                    3.0                 3.0   \n",
      "186154      1550                   14.0                14.0   \n",
      "\n",
      "        total_outstanding_orders  estimated_store_to_consumer_driving_duration  \n",
      "120923                       NaN                                         395.0  \n",
      "152850                       3.0                                         586.0  \n",
      "186154                      18.0                                         261.0  \n"
     ]
    }
   ],
   "source": [
    "#filling up market_id in the training set based on info from the same store_id \n",
    "df_train['market_id'] = df_train.groupby('store_id')['market_id'].apply(lambda x: x.ffill().bfill())\n",
    "print(df_train[df_train[\"market_id\"].isna()].sort_values(by=[\"store_id\"]))"
   ]
  },
  {
   "cell_type": "code",
   "execution_count": 11,
   "id": "c29a5574",
   "metadata": {},
   "outputs": [
    {
     "name": "stdout",
     "output_type": "stream",
     "text": [
      "       market_id           created_at  store_id  subtotal  \\\n",
      "13320        NaN  2015-02-24 21:48:53        74      2850   \n",
      "30655        NaN  2015-02-23 01:35:39      1191      4100   \n",
      "26708        NaN  2015-02-20 03:30:44      2855      6600   \n",
      "7559         NaN  2015-02-19 19:56:24      4441      4085   \n",
      "1528         NaN  2015-02-23 02:54:54      5584      2420   \n",
      "23824        NaN  2015-02-21 03:05:04      6458      6300   \n",
      "\n",
      "       total_onshift_dashers  total_busy_dashers  total_outstanding_orders  \\\n",
      "13320                   42.0                28.0                      30.0   \n",
      "30655                    7.0                 5.0                       6.0   \n",
      "26708                   13.0                13.0                      20.0   \n",
      "7559                     7.0                 7.0                       7.0   \n",
      "1528                    35.0                35.0                      43.0   \n",
      "23824                   29.0                29.0                      43.0   \n",
      "\n",
      "       estimated_store_to_consumer_driving_duration  delivery_id  \n",
      "13320                                         580.0       119421  \n",
      "30655                                         511.0       172461  \n",
      "26708                                         397.0       240141  \n",
      "7559                                          334.0       246683  \n",
      "1528                                          223.0       113271  \n",
      "23824                                         392.0        57643  \n"
     ]
    }
   ],
   "source": [
    "df_test['market_id'] = df_test.groupby('store_id')['market_id'].apply(lambda x: x.ffill().bfill())\n",
    "print(df_test[df_test[\"market_id\"].isna()].sort_values(by=[\"store_id\"]))"
   ]
  },
  {
   "cell_type": "code",
   "execution_count": 12,
   "id": "6e3068ae",
   "metadata": {},
   "outputs": [],
   "source": [
    "#only 3 and 6 missing values are left in the training and test set, respectively. Hence, we could drop the data:\n",
    "df_test = df_test[~df_test[\"market_id\"].isna()]\n",
    "df_train = df_train[~df_train[\"market_id\"].isna()]"
   ]
  },
  {
   "cell_type": "markdown",
   "id": "fe363d56",
   "metadata": {},
   "source": [
    "#### `created_at` and `actual_delivery_time` columns"
   ]
  },
  {
   "cell_type": "code",
   "execution_count": 13,
   "id": "c4eb24a3",
   "metadata": {},
   "outputs": [],
   "source": [
    "df_train = df_train[~df_train['actual_delivery_time'].isna()]"
   ]
  },
  {
   "cell_type": "markdown",
   "id": "49cc9498",
   "metadata": {},
   "source": [
    "#### `estimated_store_to_consumer_driving_duration` column"
   ]
  },
  {
   "cell_type": "code",
   "execution_count": 14,
   "id": "ab7f0ff2",
   "metadata": {},
   "outputs": [],
   "source": [
    "df_test = df_test[~df_test[\"estimated_store_to_consumer_driving_duration\"].isna()]\n",
    "df_train = df_train[~df_train[\"estimated_store_to_consumer_driving_duration\"].isna()]"
   ]
  },
  {
   "cell_type": "markdown",
   "id": "69615f5e",
   "metadata": {},
   "source": [
    "#### `total_onshift_dashers`, `total_busy_dashers`, `total_outstanding_orders` columns"
   ]
  },
  {
   "cell_type": "markdown",
   "id": "84f0733e",
   "metadata": {},
   "source": [
    "To get the same order time information from the dataframe, the `created_at` column and `actual_delivery_time` column needs to be reformatted into datetime objects. Hence, for the sake of performing missing values onto these three dasher-related columns, we need to first perform some simple date-and-time conversions within the next two cells."
   ]
  },
  {
   "cell_type": "markdown",
   "id": "804e9781",
   "metadata": {},
   "source": [
    "#### `order_time` column (Newly Created)"
   ]
  },
  {
   "cell_type": "code",
   "execution_count": 15,
   "id": "556a9e1a",
   "metadata": {},
   "outputs": [],
   "source": [
    "#converting 'created_at' object from object to datetime: \n",
    "#https://stackoverflow.com/questions/22800079/converting-time-zone-pandas-dataframe\n",
    "\n",
    "#converting from UTC to Pacific Time: \n",
    "#https://stackoverflow.com/questions/10997577/python-timezone-conversion\n",
    "\n",
    "#getting rid of the timezone information at the end of the datetime object: \n",
    "#https://stackoverflow.com/questions/45085345/remove-timezone-info\n",
    "\n",
    "# converting 'created_at' and 'actual_delivery_time' in df_train to datetime, then to Pacific Time\n",
    "date_cols = ['created_at', 'actual_delivery_time']\n",
    "for t in date_cols:\n",
    "    df_train[t] = pd.to_datetime(df_train[t], format='%Y-%m-%d %H:%M:%S')\n",
    "    df_train[t] = df_train[t].dt.tz_localize('UTC').dt.tz_convert('US/Pacific')\n",
    "    df_train[t] = df_train[t].apply(lambda d: d.replace(tzinfo=None))\n",
    "    \n",
    "# converting 'created_at' in df_test to datetime, then to Pacific Time\n",
    "df_test['created_at'] = pd.to_datetime(df_test['created_at'], format='%Y-%m-%d %H:%M:%S')\n",
    "df_test['created_at'] = df_test['created_at'].dt.tz_localize('UTC').dt.tz_convert('US/Pacific')\n",
    "df_test['created_at'] = df_test['created_at'].apply(lambda d: d.replace(tzinfo=None))\n",
    "\n",
    "#getting the same order_time column ready for estimating the dasher related columns\n",
    "df_train['order_time'] = df_train['created_at'].dt.hour\n",
    "df_test['order_time'] = df_test['created_at'].dt.hour"
   ]
  },
  {
   "cell_type": "code",
   "execution_count": 16,
   "id": "44bac208",
   "metadata": {},
   "outputs": [],
   "source": [
    "def apply_estimates_dashers(df, colname):\n",
    "    df[colname] = df.groupby([\"market_id\",'order_time'])[colname].transform(lambda x: x.fillna(x.mean()))\n",
    "    return df"
   ]
  },
  {
   "cell_type": "code",
   "execution_count": 17,
   "id": "3971141f",
   "metadata": {},
   "outputs": [
    {
     "name": "stdout",
     "output_type": "stream",
     "text": [
      "        market_id          created_at actual_delivery_time  store_id  \\\n",
      "183750        6.0 2015-02-13 23:00:55  2015-02-14 00:05:11      2215   \n",
      "176119        6.0 2015-02-07 23:00:22  2015-02-07 23:51:00      5285   \n",
      "\n",
      "        subtotal  total_onshift_dashers  total_busy_dashers  \\\n",
      "183750      2885                    NaN                 NaN   \n",
      "176119       800                    NaN                 NaN   \n",
      "\n",
      "        total_outstanding_orders  \\\n",
      "183750                       NaN   \n",
      "176119                       NaN   \n",
      "\n",
      "        estimated_store_to_consumer_driving_duration  order_time  \n",
      "183750                                         949.0          23  \n",
      "176119                                         888.0          23  \n"
     ]
    }
   ],
   "source": [
    "for col in df_dasher.columns:\n",
    "    df_train = apply_estimates_dashers(df_train, col)\n",
    "    \n",
    "print(df_train[df_train[\"total_onshift_dashers\"].isna()].sort_values(by=[\"store_id\"]))"
   ]
  },
  {
   "cell_type": "code",
   "execution_count": 18,
   "id": "527abbc6",
   "metadata": {},
   "outputs": [
    {
     "name": "stdout",
     "output_type": "stream",
     "text": [
      "       market_id          created_at  store_id  subtotal  \\\n",
      "49807        6.0 2015-02-18 07:52:00      1779      1595   \n",
      "3651         6.0 2015-02-24 07:21:55      1894       745   \n",
      "44617        6.0 2015-02-19 07:54:18      2489       850   \n",
      "36751        6.0 2015-02-20 07:59:33      3583      2860   \n",
      "\n",
      "       total_onshift_dashers  total_busy_dashers  total_outstanding_orders  \\\n",
      "49807                    NaN                 NaN                       NaN   \n",
      "3651                     NaN                 NaN                       NaN   \n",
      "44617                    NaN                 NaN                       NaN   \n",
      "36751                    NaN                 NaN                       NaN   \n",
      "\n",
      "       estimated_store_to_consumer_driving_duration  delivery_id  order_time  \n",
      "49807                                         123.0       237740           7  \n",
      "3651                                          439.0        20840           7  \n",
      "44617                                         169.0       190005           7  \n",
      "36751                                          98.0       117021           7  \n"
     ]
    }
   ],
   "source": [
    "for col in df_dasher.columns:\n",
    "    df_test = apply_estimates_dashers(df_test, col)\n",
    "    \n",
    "print(df_test[df_test[\"total_onshift_dashers\"].isna()].sort_values(by=[\"store_id\"]))"
   ]
  },
  {
   "cell_type": "markdown",
   "id": "da45bac0",
   "metadata": {},
   "source": [
    "From the data filling process described above, we can see that no matter whether it is in the training or test set, we **do not have any information on how many dashers are busy or onshift at 11:00PMish in market 6**. Hence, we will need to get rid of these data points to prevent further data contamination."
   ]
  },
  {
   "cell_type": "code",
   "execution_count": 19,
   "id": "fed19a85",
   "metadata": {},
   "outputs": [],
   "source": [
    "df_test = df_test[~df_test[\"total_onshift_dashers\"].isna()]\n",
    "df_train = df_train[~df_train[\"total_onshift_dashers\"].isna()]"
   ]
  },
  {
   "cell_type": "code",
   "execution_count": 20,
   "id": "10a3b80a",
   "metadata": {},
   "outputs": [
    {
     "name": "stdout",
     "output_type": "stream",
     "text": [
      "df_train set after missing value processing step has  (196890, 10)\n",
      "df_test set after missing value processing step has  (54757, 10)\n"
     ]
    }
   ],
   "source": [
    "print(\"df_train set after missing value processing step has \", df_train.shape)\n",
    "print(\"df_test set after missing value processing step has \", df_test.shape)"
   ]
  },
  {
   "cell_type": "markdown",
   "id": "c2a0c500",
   "metadata": {},
   "source": [
    "#### Negative Value Processing"
   ]
  },
  {
   "cell_type": "code",
   "execution_count": 21,
   "id": "e0a5b88c",
   "metadata": {
    "scrolled": false
   },
   "outputs": [
    {
     "data": {
      "text/html": [
       "<div>\n",
       "<style scoped>\n",
       "    .dataframe tbody tr th:only-of-type {\n",
       "        vertical-align: middle;\n",
       "    }\n",
       "\n",
       "    .dataframe tbody tr th {\n",
       "        vertical-align: top;\n",
       "    }\n",
       "\n",
       "    .dataframe thead th {\n",
       "        text-align: right;\n",
       "    }\n",
       "</style>\n",
       "<table border=\"1\" class=\"dataframe\">\n",
       "  <thead>\n",
       "    <tr style=\"text-align: right;\">\n",
       "      <th></th>\n",
       "      <th>market_id</th>\n",
       "      <th>store_id</th>\n",
       "      <th>subtotal</th>\n",
       "      <th>total_onshift_dashers</th>\n",
       "      <th>total_busy_dashers</th>\n",
       "      <th>total_outstanding_orders</th>\n",
       "      <th>estimated_store_to_consumer_driving_duration</th>\n",
       "      <th>order_time</th>\n",
       "    </tr>\n",
       "  </thead>\n",
       "  <tbody>\n",
       "    <tr>\n",
       "      <th>count</th>\n",
       "      <td>196890.000000</td>\n",
       "      <td>196890.000000</td>\n",
       "      <td>196890.000000</td>\n",
       "      <td>196890.000000</td>\n",
       "      <td>196890.000000</td>\n",
       "      <td>196890.000000</td>\n",
       "      <td>196890.000000</td>\n",
       "      <td>196890.000000</td>\n",
       "    </tr>\n",
       "    <tr>\n",
       "      <th>mean</th>\n",
       "      <td>2.978379</td>\n",
       "      <td>3530.344025</td>\n",
       "      <td>2682.908131</td>\n",
       "      <td>44.715371</td>\n",
       "      <td>41.675156</td>\n",
       "      <td>58.008883</td>\n",
       "      <td>545.355300</td>\n",
       "      <td>16.118457</td>\n",
       "    </tr>\n",
       "    <tr>\n",
       "      <th>std</th>\n",
       "      <td>1.524655</td>\n",
       "      <td>2053.507412</td>\n",
       "      <td>1822.781977</td>\n",
       "      <td>33.653605</td>\n",
       "      <td>31.303105</td>\n",
       "      <td>51.393407</td>\n",
       "      <td>219.352299</td>\n",
       "      <td>3.302610</td>\n",
       "    </tr>\n",
       "    <tr>\n",
       "      <th>min</th>\n",
       "      <td>1.000000</td>\n",
       "      <td>1.000000</td>\n",
       "      <td>0.000000</td>\n",
       "      <td>-4.000000</td>\n",
       "      <td>-5.000000</td>\n",
       "      <td>-6.000000</td>\n",
       "      <td>0.000000</td>\n",
       "      <td>0.000000</td>\n",
       "    </tr>\n",
       "    <tr>\n",
       "      <th>25%</th>\n",
       "      <td>2.000000</td>\n",
       "      <td>1686.000000</td>\n",
       "      <td>1400.000000</td>\n",
       "      <td>18.000000</td>\n",
       "      <td>16.000000</td>\n",
       "      <td>18.000000</td>\n",
       "      <td>382.000000</td>\n",
       "      <td>13.000000</td>\n",
       "    </tr>\n",
       "    <tr>\n",
       "      <th>50%</th>\n",
       "      <td>3.000000</td>\n",
       "      <td>3591.000000</td>\n",
       "      <td>2200.000000</td>\n",
       "      <td>37.000000</td>\n",
       "      <td>35.000000</td>\n",
       "      <td>42.000000</td>\n",
       "      <td>544.000000</td>\n",
       "      <td>17.000000</td>\n",
       "    </tr>\n",
       "    <tr>\n",
       "      <th>75%</th>\n",
       "      <td>4.000000</td>\n",
       "      <td>5299.000000</td>\n",
       "      <td>3396.000000</td>\n",
       "      <td>65.362832</td>\n",
       "      <td>61.000000</td>\n",
       "      <td>87.000000</td>\n",
       "      <td>702.000000</td>\n",
       "      <td>19.000000</td>\n",
       "    </tr>\n",
       "    <tr>\n",
       "      <th>max</th>\n",
       "      <td>6.000000</td>\n",
       "      <td>6987.000000</td>\n",
       "      <td>27100.000000</td>\n",
       "      <td>171.000000</td>\n",
       "      <td>154.000000</td>\n",
       "      <td>285.000000</td>\n",
       "      <td>2088.000000</td>\n",
       "      <td>23.000000</td>\n",
       "    </tr>\n",
       "  </tbody>\n",
       "</table>\n",
       "</div>"
      ],
      "text/plain": [
       "           market_id       store_id       subtotal  total_onshift_dashers  \\\n",
       "count  196890.000000  196890.000000  196890.000000          196890.000000   \n",
       "mean        2.978379    3530.344025    2682.908131              44.715371   \n",
       "std         1.524655    2053.507412    1822.781977              33.653605   \n",
       "min         1.000000       1.000000       0.000000              -4.000000   \n",
       "25%         2.000000    1686.000000    1400.000000              18.000000   \n",
       "50%         3.000000    3591.000000    2200.000000              37.000000   \n",
       "75%         4.000000    5299.000000    3396.000000              65.362832   \n",
       "max         6.000000    6987.000000   27100.000000             171.000000   \n",
       "\n",
       "       total_busy_dashers  total_outstanding_orders  \\\n",
       "count       196890.000000             196890.000000   \n",
       "mean            41.675156                 58.008883   \n",
       "std             31.303105                 51.393407   \n",
       "min             -5.000000                 -6.000000   \n",
       "25%             16.000000                 18.000000   \n",
       "50%             35.000000                 42.000000   \n",
       "75%             61.000000                 87.000000   \n",
       "max            154.000000                285.000000   \n",
       "\n",
       "       estimated_store_to_consumer_driving_duration     order_time  \n",
       "count                                 196890.000000  196890.000000  \n",
       "mean                                     545.355300      16.118457  \n",
       "std                                      219.352299       3.302610  \n",
       "min                                        0.000000       0.000000  \n",
       "25%                                      382.000000      13.000000  \n",
       "50%                                      544.000000      17.000000  \n",
       "75%                                      702.000000      19.000000  \n",
       "max                                     2088.000000      23.000000  "
      ]
     },
     "execution_count": 21,
     "metadata": {},
     "output_type": "execute_result"
    }
   ],
   "source": [
    "df_train.describe()"
   ]
  },
  {
   "cell_type": "code",
   "execution_count": 22,
   "id": "c4fc139a",
   "metadata": {},
   "outputs": [
    {
     "data": {
      "text/html": [
       "<div>\n",
       "<style scoped>\n",
       "    .dataframe tbody tr th:only-of-type {\n",
       "        vertical-align: middle;\n",
       "    }\n",
       "\n",
       "    .dataframe tbody tr th {\n",
       "        vertical-align: top;\n",
       "    }\n",
       "\n",
       "    .dataframe thead th {\n",
       "        text-align: right;\n",
       "    }\n",
       "</style>\n",
       "<table border=\"1\" class=\"dataframe\">\n",
       "  <thead>\n",
       "    <tr style=\"text-align: right;\">\n",
       "      <th></th>\n",
       "      <th>market_id</th>\n",
       "      <th>store_id</th>\n",
       "      <th>subtotal</th>\n",
       "      <th>total_onshift_dashers</th>\n",
       "      <th>total_busy_dashers</th>\n",
       "      <th>total_outstanding_orders</th>\n",
       "      <th>estimated_store_to_consumer_driving_duration</th>\n",
       "      <th>delivery_id</th>\n",
       "      <th>order_time</th>\n",
       "    </tr>\n",
       "  </thead>\n",
       "  <tbody>\n",
       "    <tr>\n",
       "      <th>count</th>\n",
       "      <td>54757.000000</td>\n",
       "      <td>54757.000000</td>\n",
       "      <td>54757.000000</td>\n",
       "      <td>54757.000000</td>\n",
       "      <td>54757.000000</td>\n",
       "      <td>54757.000000</td>\n",
       "      <td>54757.000000</td>\n",
       "      <td>54757.000000</td>\n",
       "      <td>54757.000000</td>\n",
       "    </tr>\n",
       "    <tr>\n",
       "      <th>mean</th>\n",
       "      <td>3.031010</td>\n",
       "      <td>3489.788301</td>\n",
       "      <td>2715.644283</td>\n",
       "      <td>48.923507</td>\n",
       "      <td>43.391516</td>\n",
       "      <td>62.361672</td>\n",
       "      <td>547.805797</td>\n",
       "      <td>126116.258780</td>\n",
       "      <td>16.054788</td>\n",
       "    </tr>\n",
       "    <tr>\n",
       "      <th>std</th>\n",
       "      <td>1.531855</td>\n",
       "      <td>2050.193124</td>\n",
       "      <td>1897.858187</td>\n",
       "      <td>36.552107</td>\n",
       "      <td>33.080100</td>\n",
       "      <td>54.751299</td>\n",
       "      <td>220.449251</td>\n",
       "      <td>72681.256909</td>\n",
       "      <td>3.290703</td>\n",
       "    </tr>\n",
       "    <tr>\n",
       "      <th>min</th>\n",
       "      <td>1.000000</td>\n",
       "      <td>2.000000</td>\n",
       "      <td>0.000000</td>\n",
       "      <td>-1.000000</td>\n",
       "      <td>-4.000000</td>\n",
       "      <td>-9.000000</td>\n",
       "      <td>0.000000</td>\n",
       "      <td>20.000000</td>\n",
       "      <td>6.000000</td>\n",
       "    </tr>\n",
       "    <tr>\n",
       "      <th>25%</th>\n",
       "      <td>2.000000</td>\n",
       "      <td>1661.000000</td>\n",
       "      <td>1420.000000</td>\n",
       "      <td>20.000000</td>\n",
       "      <td>17.000000</td>\n",
       "      <td>20.000000</td>\n",
       "      <td>385.000000</td>\n",
       "      <td>62949.000000</td>\n",
       "      <td>13.000000</td>\n",
       "    </tr>\n",
       "    <tr>\n",
       "      <th>50%</th>\n",
       "      <td>3.000000</td>\n",
       "      <td>3518.000000</td>\n",
       "      <td>2220.000000</td>\n",
       "      <td>40.400000</td>\n",
       "      <td>36.000000</td>\n",
       "      <td>46.363636</td>\n",
       "      <td>544.000000</td>\n",
       "      <td>126195.000000</td>\n",
       "      <td>17.000000</td>\n",
       "    </tr>\n",
       "    <tr>\n",
       "      <th>75%</th>\n",
       "      <td>4.000000</td>\n",
       "      <td>5248.000000</td>\n",
       "      <td>3414.000000</td>\n",
       "      <td>69.555556</td>\n",
       "      <td>63.000000</td>\n",
       "      <td>89.638889</td>\n",
       "      <td>703.000000</td>\n",
       "      <td>188910.000000</td>\n",
       "      <td>19.000000</td>\n",
       "    </tr>\n",
       "    <tr>\n",
       "      <th>max</th>\n",
       "      <td>6.000000</td>\n",
       "      <td>6986.000000</td>\n",
       "      <td>29925.000000</td>\n",
       "      <td>175.000000</td>\n",
       "      <td>169.000000</td>\n",
       "      <td>292.000000</td>\n",
       "      <td>1550.000000</td>\n",
       "      <td>252031.000000</td>\n",
       "      <td>23.000000</td>\n",
       "    </tr>\n",
       "  </tbody>\n",
       "</table>\n",
       "</div>"
      ],
      "text/plain": [
       "          market_id      store_id      subtotal  total_onshift_dashers  \\\n",
       "count  54757.000000  54757.000000  54757.000000           54757.000000   \n",
       "mean       3.031010   3489.788301   2715.644283              48.923507   \n",
       "std        1.531855   2050.193124   1897.858187              36.552107   \n",
       "min        1.000000      2.000000      0.000000              -1.000000   \n",
       "25%        2.000000   1661.000000   1420.000000              20.000000   \n",
       "50%        3.000000   3518.000000   2220.000000              40.400000   \n",
       "75%        4.000000   5248.000000   3414.000000              69.555556   \n",
       "max        6.000000   6986.000000  29925.000000             175.000000   \n",
       "\n",
       "       total_busy_dashers  total_outstanding_orders  \\\n",
       "count        54757.000000              54757.000000   \n",
       "mean            43.391516                 62.361672   \n",
       "std             33.080100                 54.751299   \n",
       "min             -4.000000                 -9.000000   \n",
       "25%             17.000000                 20.000000   \n",
       "50%             36.000000                 46.363636   \n",
       "75%             63.000000                 89.638889   \n",
       "max            169.000000                292.000000   \n",
       "\n",
       "       estimated_store_to_consumer_driving_duration    delivery_id  \\\n",
       "count                                  54757.000000   54757.000000   \n",
       "mean                                     547.805797  126116.258780   \n",
       "std                                      220.449251   72681.256909   \n",
       "min                                        0.000000      20.000000   \n",
       "25%                                      385.000000   62949.000000   \n",
       "50%                                      544.000000  126195.000000   \n",
       "75%                                      703.000000  188910.000000   \n",
       "max                                     1550.000000  252031.000000   \n",
       "\n",
       "         order_time  \n",
       "count  54757.000000  \n",
       "mean      16.054788  \n",
       "std        3.290703  \n",
       "min        6.000000  \n",
       "25%       13.000000  \n",
       "50%       17.000000  \n",
       "75%       19.000000  \n",
       "max       23.000000  "
      ]
     },
     "execution_count": 22,
     "metadata": {},
     "output_type": "execute_result"
    }
   ],
   "source": [
    "df_test.describe()"
   ]
  },
  {
   "cell_type": "markdown",
   "id": "1a86b542",
   "metadata": {},
   "source": [
    "While reading the statistical analysis of our training and test dataset, we could see that there is no peculiar outlier seen on the higher end (maximum values). On the lower end, however, only `total_onshift_dashers`, `total_busy_dashers`, `total_outstanding_orders` columns now have negative values that are not making so much sense, based on the minimum description row in the table above. Hence, **creating subtables that containing only the negative values** listed in these columns will help us making better sense of whether the data is mistakenly reported or missing.\n",
    "\n",
    "Another thing to note in our dataset is that, <span style=\"background-color:#eef0c8\"> **`total_busy_dashers` is a subset of the `total_onshift_dashers`**, which means that **the value in `total_busy_dashers` should always be smaller than `total_onshift_dashers`**. Hence, we will handle both the negative values in the columns and unreasonable data within this section.</span>"
   ]
  },
  {
   "cell_type": "markdown",
   "id": "eb21c4e3",
   "metadata": {},
   "source": [
    "#### Step 1: Setting the negative numbers to zero"
   ]
  },
  {
   "cell_type": "code",
   "execution_count": 23,
   "id": "84d1b650",
   "metadata": {},
   "outputs": [],
   "source": [
    "df_train.loc[df_train.total_onshift_dashers < 0, 'total_onshift_dashers'] = 0\n",
    "df_train.loc[df_train.total_busy_dashers < 0, 'total_busy_dashers'] = 0\n",
    "df_train.loc[df_train.total_outstanding_orders < 0, 'total_outstanding_orders'] = 0\n",
    "df_test.loc[df_test.total_onshift_dashers < 0, 'total_onshift_dashers'] = 0\n",
    "df_test.loc[df_test.total_busy_dashers < 0, 'total_busy_dashers'] = 0\n",
    "df_test.loc[df_test.total_outstanding_orders < 0, 'total_outstanding_orders'] = 0"
   ]
  },
  {
   "cell_type": "markdown",
   "id": "ca1f7cdf",
   "metadata": {},
   "source": [
    "#### Step 2: Setting `total_onshift_dashers` to be larger than `total_busy_dashers`"
   ]
  },
  {
   "cell_type": "code",
   "execution_count": 24,
   "id": "a613e7d3",
   "metadata": {},
   "outputs": [],
   "source": [
    "df_train.loc[df_train.total_onshift_dashers < df_train.total_busy_dashers, 'total_onshift_dashers'] = df_train['total_busy_dashers']\n",
    "df_test.loc[df_test.total_onshift_dashers < df_test.total_busy_dashers, 'total_onshift_dashers'] = df_test['total_busy_dashers']"
   ]
  },
  {
   "cell_type": "markdown",
   "id": "ee0d1534",
   "metadata": {},
   "source": [
    "### Feature Engineering & Additional Feature Creation<a name=\"creation\"></a>"
   ]
  },
  {
   "cell_type": "markdown",
   "id": "6ab464c9",
   "metadata": {},
   "source": [
    "#### `which_day_of_week` column"
   ]
  },
  {
   "cell_type": "code",
   "execution_count": 25,
   "id": "4e3f2dd9",
   "metadata": {},
   "outputs": [],
   "source": [
    "df_train['which_day_of_week'] = df_train['created_at'].dt.dayofweek\n",
    "df_test['which_day_of_week'] = df_test['created_at'].dt.dayofweek\n",
    "#print(df_train['which_day_of_week'].unique())\n",
    "\n",
    "# Monday is denoted as 0 and Sunday, the last day of the week, is denoted as 6"
   ]
  },
  {
   "cell_type": "markdown",
   "id": "f1cd063d",
   "metadata": {},
   "source": [
    "#### `holiday` column"
   ]
  },
  {
   "cell_type": "code",
   "execution_count": 26,
   "id": "e39b6a35",
   "metadata": {},
   "outputs": [],
   "source": [
    "def holiday_column(df):\n",
    "    cal = calendar()\n",
    "    holidays = cal.holidays(start=df['created_at'].min(),\n",
    "                            end=df['created_at'].max()).to_pydatetime()\n",
    "    df['holiday'] = df['created_at'].dt.date.astype('datetime64').isin(holidays)\n",
    "    return df\n",
    "df_train = holiday_column(df_train)\n",
    "df_test = holiday_column(df_test)"
   ]
  },
  {
   "cell_type": "markdown",
   "id": "27dad3e3",
   "metadata": {},
   "source": [
    "#### `average_subtotal_per_store` column"
   ]
  },
  {
   "cell_type": "code",
   "execution_count": 27,
   "id": "86b896dd",
   "metadata": {},
   "outputs": [],
   "source": [
    "def avg_subtotal(group):\n",
    "    group[\"average_subtotal_per_store\"] = np.nanmean(group[\"subtotal\"])\n",
    "    return group\n",
    "df_train = df_train.groupby(\"store_id\").apply(avg_subtotal)\n",
    "df_test = df_test.groupby(\"store_id\").apply(avg_subtotal)"
   ]
  },
  {
   "cell_type": "markdown",
   "id": "32eb107a",
   "metadata": {},
   "source": [
    "#### `market_scale` column"
   ]
  },
  {
   "cell_type": "code",
   "execution_count": 28,
   "id": "fc27bc5c",
   "metadata": {},
   "outputs": [],
   "source": [
    "def market_scale(group):\n",
    "    group[\"market_scale\"] = len(group[\"store_id\"].value_counts())\n",
    "    return group\n",
    "df_train = df_train.groupby(\"market_id\").apply(market_scale)\n",
    "df_test = df_test.groupby(\"market_id\").apply(market_scale)"
   ]
  },
  {
   "cell_type": "markdown",
   "id": "a0427182",
   "metadata": {},
   "source": [
    "#### `actual_total_time` column"
   ]
  },
  {
   "cell_type": "code",
   "execution_count": 29,
   "id": "5e59dfad",
   "metadata": {},
   "outputs": [],
   "source": [
    "# The most important column that we need to determine is how long each order takes to be delivered to the customer\n",
    "df_train['actual_total_time'] = (df_train['actual_delivery_time'] - df_train['created_at']).dt.total_seconds()\n",
    "\n",
    "# dropping those deliveries that is longer than 1 day(24 hours=1,440 mins=86,400 secs); \n",
    "# probably did not complete or cancelled\n",
    "df_train = df_train[df_train[\"actual_total_time\"] <= 86400]"
   ]
  },
  {
   "cell_type": "markdown",
   "id": "ed85d0e3",
   "metadata": {},
   "source": [
    "## Data Analysis<a name=\"analysis\"></a>"
   ]
  },
  {
   "cell_type": "markdown",
   "id": "02ee2bc6",
   "metadata": {},
   "source": [
    "### Univariate<a name=\"univariate\"></a>\n",
    "\n",
    "We care the most about **how each variable will have an impact on the `actual_total_time`** of the orders. Hence, first thing first, we take a closer look at how each of the categorical columns varies with respect to the total delivery time:\n",
    "\n",
    "#### Categorical Columns<a name=\"categorical\"></a>"
   ]
  },
  {
   "cell_type": "code",
   "execution_count": 30,
   "id": "4aca7a00",
   "metadata": {
    "scrolled": false
   },
   "outputs": [
    {
     "data": {
      "image/png": "[encoded data removed]",
      "text/plain": [
       "<Figure size 1080x684 with 4 Axes>"
      ]
     },
     "metadata": {
      "needs_background": "light"
     },
     "output_type": "display_data"
    }
   ],
   "source": [
    "fig1, ax1 = plt.subplots(2, 2)\n",
    "cat_cols = [\"market_id\", \"holiday\", \"order_time\", \"which_day_of_week\"]\n",
    "\n",
    "for i, c in enumerate(cat_cols): \n",
    "    y = df_train.groupby(c)[\"actual_total_time\"].apply(lambda x: np.mean(x))\n",
    "    ylist = y.to_list()\n",
    " \n",
    "    ax1 = ax1.flatten()\n",
    "    ax1[i].scatter(df_train[c], df_train[\"actual_total_time\"])\n",
    "    \n",
    "    for j, txt in enumerate(y):\n",
    "        ax1[i].annotate(r'${:2.0f}$'.format(txt),(y.index[j], ylist[j]),ha='center',rotation=45)\n",
    "        \n",
    "    ax1[i].set_xlabel(c)\n",
    "    fig1.set_size_inches(15, 9.5)\n",
    "    ax1[i].set_ylabel(\"actual_total_time (sec)\")"
   ]
  },
  {
   "cell_type": "markdown",
   "id": "430eddb9",
   "metadata": {},
   "source": [
    "#### `market_id` vs `actual_total_time`\n",
    "Regardless of how big / busy each market scale is, market with ID 2, 4, 5, and 6 tend to have orders delivered faster than market 1, 3, based on the average actual delivery time that we obtained on the plot. From these \"naive\" scatter plot, it seems that deliveries from various market_id will definitely expect to have different total_delivery_time. Hence, we can expect the **`actual_total_time` to be influenced by the `market_id` in the our model**. The average total delivery time can be affected by the **# of available dasher within the market, or the # of orders created in the market**, which we may have to further dig into.\n",
    "\n",
    "#### `holiday` vs `actual_total_time`\n",
    "Even though we may expect the orders coming from the non-holidays to have much larger size than the orders coming from holidays, based on the scatter plot, we can still expect **at least a weak relationship between whether the order comes in on a holiday and the total delivery time**. It is clearly portraited in plot that the orders on non-holidays can range up to 50,000 seconds, where the orders on holidays are mostly delivered within 30,000 seconds, with an average on holiday increasing by ~200 seconds. This might be due to the **less order created** on holidays, which will potentially be a significant factor that we need to consider.\n",
    "\n",
    "#### `order_time` vs `actual_total_time`\n",
    "The first thing we could see from the scatter plot between `order_time` and `actual_total_time` is that there is **no orders made between 1AM - 6AM**, which may be due to that there are not so many restaurants open around that time. Therefore, **we might not be able to learn the trend if new orders are made within this period of time**. Orders created **between 10AM - 14PM and 18PM, 20PM are tend to take longer time** than orders created during other time slots, which may be attributed to 1) the large amount of orders that the restaurants have to process during the peak hours or 2) the heavy traffic on the road at rush hour. \n",
    "\n",
    "#### `which_day_of_week` vs `actual_total_time`\n",
    "From the scatter plot we could see that orders **created on Mondays, Wednesdays, Fridays, Saturdays and Sundays are expected to have longer delivery time than orders from other weekdays**. Hence, this feature is also expected to impact our final prediction."
   ]
  },
  {
   "cell_type": "code",
   "execution_count": 31,
   "id": "698d8156",
   "metadata": {
    "scrolled": false
   },
   "outputs": [
    {
     "name": "stdout",
     "output_type": "stream",
     "text": [
      "2.0    55185\n",
      "4.0    47703\n",
      "1.0    38128\n",
      "3.0    23362\n",
      "5.0    18043\n",
      "6.0    14466\n",
      "Name: market_id, dtype: int64\n",
      "<-------------------------------->\n",
      "False    190717\n",
      "True       6170\n",
      "Name: holiday, dtype: int64\n",
      "<-------------------------------->\n",
      "18    36924\n",
      "17    28175\n",
      "19    27039\n",
      "12    15414\n",
      "20    15242\n",
      "11    13394\n",
      "16    12667\n",
      "13    11406\n",
      "14     8818\n",
      "15     8155\n",
      "21     7094\n",
      "10     5063\n",
      "9      3397\n",
      "8      2098\n",
      "22     1416\n",
      "7       536\n",
      "6        39\n",
      "23        9\n",
      "0         1\n",
      "Name: order_time, dtype: int64\n",
      "<-------------------------------->\n",
      "4    33089\n",
      "5    32836\n",
      "6    30618\n",
      "3    26694\n",
      "2    25138\n",
      "0    24584\n",
      "1    23928\n",
      "Name: which_day_of_week, dtype: int64\n",
      "<-------------------------------->\n"
     ]
    },
    {
     "data": {
      "image/png": "[encoded data removed]",
      "text/plain": [
       "<Figure size 864x684 with 4 Axes>"
      ]
     },
     "metadata": {
      "needs_background": "light"
     },
     "output_type": "display_data"
    }
   ],
   "source": [
    "fig2, ax2 = plt.subplots(2,2)\n",
    "for i, c in enumerate(cat_cols):\n",
    "    df_cat = df_train[c].value_counts().to_frame().reset_index()\n",
    "    df_cat.columns = [c,\"count\"]\n",
    "    ax2 = ax2.flatten()\n",
    "    ax2[i].bar(x = df_cat[c], height = df_cat[\"count\"])\n",
    "    plt.setp(ax2[i].get_xticklabels(), rotation=30, horizontalalignment='right')\n",
    "    ax2[i].set_xlabel(c)\n",
    "    ax2[i].set_ylabel(\"count\")\n",
    "    fig2.set_size_inches(12, 9.5)\n",
    "    print(df_train[c].value_counts())\n",
    "    print(\"<-------------------------------->\")"
   ]
  },
  {
   "cell_type": "markdown",
   "id": "4de121eb",
   "metadata": {},
   "source": [
    "#### `market_id` vs `number_of_orders_created`\n",
    "Based on the total count of how many orders are created within each market, **market 2 and 4 have the largest potential and size**, then market 1. Market 3, 5, 6 on the other hand are smaller in scale. Nevertheless, from the previous plot, we can see that **market 1 has the slowest average delivery speed**, although it is of huge market size. Therefore, further investigations on the number of dashers within the area are needed to determine if it is correlated to the predictions (actual_delivery_time) that we are trying to make.\n",
    "\n",
    "#### `holiday` vs `number_of_orders_created`\n",
    "Orders that are created on holidays are much less in quantities than they are on non-holidays. This can actually be the reason why orders on holidays could be delivered on a faster average delivery time. \n",
    "\n",
    "#### `order_time` vs `number_of_orders_created`\n",
    "Most of the orders are created in the evening, at around 17 - 20PM. Surprisingly, **orders that are created at noon are much less than the orders created at the dinner time, almost half of that**. From the order_time vs total_order_time plots above, it is clear that orders in the evening result in slower average speed than those ones at noon. Hence, a clear relation between the order_time and the actual_delivery_time can be deducted.\n",
    "\n",
    "#### `which_day_of_week` vs `number_of_orders_created`\n",
    "Not so surprisingly, more orders come from Fridays, Saturdays and Sundays. In the first place, **a relationship between on which day of the week the order is created and the delivery time can be established**. However, what it says from the previous scatter plot is that orders from Mondays and Wednesdays also have long delivery time. Hence, this should be digged into by looking at the number of dashers onshift during the weekdays. "
   ]
  },
  {
   "cell_type": "code",
   "execution_count": 32,
   "id": "a904d6f9",
   "metadata": {},
   "outputs": [
    {
     "data": {
      "image/png": "[encoded data removed]",
      "text/plain": [
       "<Figure size 864x684 with 4 Axes>"
      ]
     },
     "metadata": {
      "needs_background": "light"
     },
     "output_type": "display_data"
    }
   ],
   "source": [
    "fig3, ax3 = plt.subplots(2,2)\n",
    "\n",
    "for i, c in enumerate(cat_cols): \n",
    "    y = df_train.groupby(c)[\"total_onshift_dashers\"].apply(lambda x: np.mean(x))\n",
    "    ylist = y.to_list()\n",
    "    \n",
    "    ax3 = ax3.flatten()\n",
    "    ax3[i].scatter(df_train[c], df_train[\"total_onshift_dashers\"])\n",
    "\n",
    "    for j, txt in enumerate(y):\n",
    "        ax3[i].annotate(r'${:.1f}$'.format(txt),(y.index[j], ylist[j]),ha='center',rotation=20)\n",
    "\n",
    "    ax3[i].set_xlabel(c)\n",
    "    fig3.set_size_inches(12, 9.5)\n",
    "    ax3[i].set_ylabel(\"total_onshift_dashers\")"
   ]
  },
  {
   "cell_type": "markdown",
   "id": "0c28097e",
   "metadata": {},
   "source": [
    "#### `market_id` vs `total_onshift_dashers`\n",
    "The reason why **market 1 has the slowest delivery speed**, which can be seen from the plot above, is that **it on average has a smaller number of dashers available**, when comparing to other large markets. \n",
    "\n",
    "#### `holiday` vs `total_onshift_dashers`\n",
    "Although from the `holiday` vs `number of orders` plot we saw that orders that are created on holidays are much less in quantities than they are on non-holidays. The average `total_onshift_dashers` is not decreasing by that much. Hence, these two factors combined might result in a faster average delivery time on holidays. \n",
    "\n",
    "#### `order_time` vs `total_onshift_dashers`\n",
    "As expected, there are only half as many dashers at noon as there are in the evening. Nevertheless, when comparing to the total order counts, where only 40%ish of the orders are created at noon, comparing to the total counts in the evenings, it results clearly in a faster delivery speed at noon (although the amount of traffic on the road might also be a reason). \n",
    "\n",
    "#### `which_day_of_week` vs `total_onshift_dashers`\n",
    "It is not surprising to see that on Mondays and Wednesdays, there are not so many dashers onshift; hence, these two factors will clearly have an impact on our final predictions of the total delivery time."
   ]
  },
  {
   "cell_type": "markdown",
   "id": "790c2fc3",
   "metadata": {},
   "source": [
    "#### Numerical Columns<a name=\"numerical\"></a>\n",
    "\n",
    "Similarly, we first start with browsing the relationship between each of the columns with the feature that we care most about, $i.e.$, `actual_total_time`. Using the regression plot function from seaborn library, it is possible to take a glance of the data:"
   ]
  },
  {
   "cell_type": "code",
   "execution_count": 33,
   "id": "97c174d2",
   "metadata": {},
   "outputs": [
    {
     "name": "stdout",
     "output_type": "stream",
     "text": [
      "subtotal   vs actual_total_time: \n",
      "r_value = 0.2042\n",
      "std_err = 0.0014\n"
     ]
    },
    {
     "data": {
      "image/png": "[encoded data removed]",
      "text/plain": [
       "<Figure size 432x288 with 1 Axes>"
      ]
     },
     "metadata": {
      "needs_background": "light"
     },
     "output_type": "display_data"
    },
    {
     "name": "stdout",
     "output_type": "stream",
     "text": [
      "total_onshift_dashers   vs actual_total_time: \n",
      "r_value = 0.0649\n",
      "std_err = 0.0760\n"
     ]
    },
    {
     "data": {
      "image/png": "[encoded data removed]",
      "text/plain": [
       "<Figure size 432x288 with 1 Axes>"
      ]
     },
     "metadata": {
      "needs_background": "light"
     },
     "output_type": "display_data"
    },
    {
     "name": "stdout",
     "output_type": "stream",
     "text": [
      "total_busy_dashers   vs actual_total_time: \n",
      "r_value = 0.0894\n",
      "std_err = 0.0835\n"
     ]
    },
    {
     "data": {
      "image/png": "[encoded data removed]",
      "text/plain": [
       "<Figure size 432x288 with 1 Axes>"
      ]
     },
     "metadata": {
      "needs_background": "light"
     },
     "output_type": "display_data"
    },
    {
     "name": "stdout",
     "output_type": "stream",
     "text": [
      "total_outstanding_orders   vs actual_total_time: \n",
      "r_value = 0.1723\n",
      "std_err = 0.0503\n"
     ]
    },
    {
     "data": {
      "image/png": "[encoded data removed]",
      "text/plain": [
       "<Figure size 432x288 with 1 Axes>"
      ]
     },
     "metadata": {
      "needs_background": "light"
     },
     "output_type": "display_data"
    }
   ],
   "source": [
    "num_cols = ['subtotal', 'total_onshift_dashers','total_busy_dashers','total_outstanding_orders']\n",
    "for i in (num_cols):\n",
    "    slope, intercept, r_value, p_value, std_err = stats.linregress(df_train[i],df_train[\"actual_total_time\"])\n",
    "    fig5, ax5 = plt.subplots()\n",
    "    regplt = sns.regplot(x=i,y=\"actual_total_time\", data=df_train, \\\n",
    "                         scatter_kws = {'color': '#184fa2', 'alpha': 0.3, 's': 2}, \\\n",
    "                         line_kws = {'color': '#f2c54a', 'alpha': 0.6,\\\n",
    "                                     'label':\"y={0:.1f}x+{1:.1f}\".format(slope,intercept)})\n",
    "    ax5.legend()\n",
    "    print(i, \"  vs actual_total_time: \")\n",
    "    print(\"r_value = {0:.4f}\".format(r_value))\n",
    "    print(\"std_err = {0:.4f}\".format(std_err))\n",
    "    plt.show()"
   ]
  },
  {
   "cell_type": "markdown",
   "id": "f2f7c903",
   "metadata": {},
   "source": [
    "#### `subtotal` vs `actual_total_time`\n",
    "Although a few significant outliers are displayed in the plot, it is still noticable that there is a linear relationship between the `subtotal` vs `actual_total_time`, indicating that the food preparation phase has an impact on the overall order completion.\n",
    "\n",
    "#### `total_onshift_dashers`, `total_busy_dashers`, `total_outstanding_orders` vs `actual_total_time`\n",
    "Based on what the scatter plots tell, although not clear enough at this point, we could still recognize an overall trend that when there a larger number of dashers on the road and a larger amount of outstanding orders within the area, **indicating a larger market size and higher demand in the market, the lower limit of the actual delivery time increases**. Nevertheless, the higher limit of the delivery time also decreases, which might seem to be counter-intuitive. This fact might be resulted from a smaller population of data points that represent this extreme (when `total_onshift_dashers`, `total_busy_dashers`, `total_outstanding_orders` reside on the higher end).\n",
    "\n",
    "From a numerical point of view, **the $R^2$ values and standard deviations of the `subtotal` and `total_outstanding_orders` columns indicate that these two features have higher correlations than the other two. However, the conclusion should not be immediately drawn until the data is more carefully scrutinized.**\n",
    "\n",
    "To check out the how these columns distribute, **we again calculate the total count of each column:**"
   ]
  },
  {
   "cell_type": "code",
   "execution_count": 34,
   "id": "19cb755f",
   "metadata": {},
   "outputs": [
    {
     "data": {
      "text/plain": [
       "Text(0.5, 1.0, 'actual_total_time')"
      ]
     },
     "execution_count": 34,
     "metadata": {},
     "output_type": "execute_result"
    },
    {
     "data": {
      "image/png": "[encoded data removed]",
      "text/plain": [
       "<Figure size 432x288 with 1 Axes>"
      ]
     },
     "metadata": {
      "needs_background": "light"
     },
     "output_type": "display_data"
    }
   ],
   "source": [
    "fig6, ax6 = plt.subplots()\n",
    "ax6.hist(df_train[\"actual_total_time\"],bins=30,rwidth=0.8)\n",
    "ax6.set_title(\"actual_total_time\")"
   ]
  },
  {
   "cell_type": "markdown",
   "id": "5bc0a3ef",
   "metadata": {},
   "source": [
    "#### `actual_total_time` vs total_counts\n",
    "From this bar plot, it is obvious to see that the `actual_total_time` ranges from 0 - 50,000 seconds, most of the data points are less spread out and concentrated near the lower limit (0 - 10,000 seconds). Hence, we could see that the features that have stronger correlation with our final feature of prediction should exhibit similar distributions with that most of the data points locating near the lower limit."
   ]
  },
  {
   "cell_type": "code",
   "execution_count": 35,
   "id": "6c92d297",
   "metadata": {
    "scrolled": false
   },
   "outputs": [
    {
     "data": {
      "image/png": "[encoded data removed]",
      "text/plain": [
       "<Figure size 864x684 with 4 Axes>"
      ]
     },
     "metadata": {
      "needs_background": "light"
     },
     "output_type": "display_data"
    }
   ],
   "source": [
    "#check Numerical variables distribution (each columns vs. the total count)\n",
    "fig4, ax4 = plt.subplots(2, 2, figsize=(12, 9.5))\n",
    "for i,n in enumerate(num_cols):\n",
    "    ax4[i//2][(i%2)-1].hist(df_train[n],bins=20,rwidth=0.8)\n",
    "    ax4[i//2][(i%2)-1].set_title(n)"
   ]
  },
  {
   "cell_type": "markdown",
   "id": "8b74dc79",
   "metadata": {},
   "source": [
    "#### `total_onshift_dashers` and `total_busy_dashers` vs total_counts\n",
    "From what the bar plot depicts, these two features are more widely spread out in range. This might be the reason why the correlation between these two columns are weaker than `total_outstanding_orders` and `subtotal`, since the other two are more concentrated on the lower end of the bar plots. Hence, it is harder to compute the direct relationship between these two features with the `actual_total_time`.\n",
    "\n",
    "#### `subtotal` and `total_outstanding_orders` vs total_counts\n",
    "As stated above, these two features have more similar distributions to the `actual_total_time` column, which is the final prediction that we need to make. Therefore, **stronger correlations between `subtotal`, `total_outstanding_orders` and `actual_total_time` could be expected during our modeling process**."
   ]
  },
  {
   "cell_type": "markdown",
   "id": "6bfe468e",
   "metadata": {},
   "source": [
    "### Correlations (Multivariate)<a name=\"multivariate\"></a>"
   ]
  },
  {
   "cell_type": "code",
   "execution_count": 36,
   "id": "fb85bdde",
   "metadata": {},
   "outputs": [],
   "source": [
    "corr = np.abs(df_train.corr())"
   ]
  },
  {
   "cell_type": "code",
   "execution_count": 37,
   "id": "357b9a85",
   "metadata": {},
   "outputs": [
    {
     "data": {
      "text/html": [
       "<style  type=\"text/css\" >\n",
       "#T_5a70c_row0_col0,#T_5a70c_row0_col1,#T_5a70c_row0_col2,#T_5a70c_row0_col3,#T_5a70c_row0_col4,#T_5a70c_row0_col5,#T_5a70c_row0_col6,#T_5a70c_row0_col7,#T_5a70c_row0_col8,#T_5a70c_row0_col9,#T_5a70c_row0_col10,#T_5a70c_row0_col11,#T_5a70c_row0_col12,#T_5a70c_row1_col1,#T_5a70c_row1_col2,#T_5a70c_row1_col3,#T_5a70c_row1_col4,#T_5a70c_row1_col5,#T_5a70c_row1_col6,#T_5a70c_row1_col7,#T_5a70c_row1_col8,#T_5a70c_row1_col9,#T_5a70c_row1_col10,#T_5a70c_row1_col11,#T_5a70c_row1_col12,#T_5a70c_row2_col2,#T_5a70c_row2_col3,#T_5a70c_row2_col4,#T_5a70c_row2_col5,#T_5a70c_row2_col6,#T_5a70c_row2_col7,#T_5a70c_row2_col8,#T_5a70c_row2_col9,#T_5a70c_row2_col10,#T_5a70c_row2_col11,#T_5a70c_row2_col12,#T_5a70c_row3_col3,#T_5a70c_row3_col4,#T_5a70c_row3_col5,#T_5a70c_row3_col6,#T_5a70c_row3_col7,#T_5a70c_row3_col8,#T_5a70c_row3_col9,#T_5a70c_row3_col10,#T_5a70c_row3_col11,#T_5a70c_row3_col12,#T_5a70c_row4_col4,#T_5a70c_row4_col5,#T_5a70c_row4_col6,#T_5a70c_row4_col7,#T_5a70c_row4_col8,#T_5a70c_row4_col9,#T_5a70c_row4_col10,#T_5a70c_row4_col11,#T_5a70c_row4_col12,#T_5a70c_row5_col5,#T_5a70c_row5_col6,#T_5a70c_row5_col7,#T_5a70c_row5_col8,#T_5a70c_row5_col9,#T_5a70c_row5_col10,#T_5a70c_row5_col11,#T_5a70c_row5_col12,#T_5a70c_row6_col6,#T_5a70c_row6_col7,#T_5a70c_row6_col8,#T_5a70c_row6_col9,#T_5a70c_row6_col10,#T_5a70c_row6_col11,#T_5a70c_row6_col12,#T_5a70c_row7_col7,#T_5a70c_row7_col8,#T_5a70c_row7_col9,#T_5a70c_row7_col10,#T_5a70c_row7_col11,#T_5a70c_row7_col12,#T_5a70c_row8_col8,#T_5a70c_row8_col9,#T_5a70c_row8_col10,#T_5a70c_row8_col11,#T_5a70c_row8_col12,#T_5a70c_row9_col9,#T_5a70c_row9_col10,#T_5a70c_row9_col11,#T_5a70c_row9_col12,#T_5a70c_row10_col10,#T_5a70c_row10_col11,#T_5a70c_row10_col12,#T_5a70c_row11_col11,#T_5a70c_row11_col12,#T_5a70c_row12_col12{\n",
       "            background-color:  #000000;\n",
       "            color:  #f1f1f1;\n",
       "            background-color:  #f1f1f1;\n",
       "        }#T_5a70c_row1_col0,#T_5a70c_row9_col2{\n",
       "            background-color:  #4358cb;\n",
       "            color:  #f1f1f1;\n",
       "        }#T_5a70c_row2_col0{\n",
       "            background-color:  #4257c9;\n",
       "            color:  #f1f1f1;\n",
       "        }#T_5a70c_row2_col1,#T_5a70c_row7_col6,#T_5a70c_row10_col9{\n",
       "            background-color:  #4055c8;\n",
       "            color:  #f1f1f1;\n",
       "        }#T_5a70c_row3_col0,#T_5a70c_row12_col3{\n",
       "            background-color:  #5b7ae5;\n",
       "            color:  #000000;\n",
       "        }#T_5a70c_row3_col1,#T_5a70c_row5_col1,#T_5a70c_row10_col8,#T_5a70c_row11_col2{\n",
       "            background-color:  #445acc;\n",
       "            color:  #f1f1f1;\n",
       "        }#T_5a70c_row3_col2,#T_5a70c_row5_col2{\n",
       "            background-color:  #80a3fa;\n",
       "            color:  #000000;\n",
       "        }#T_5a70c_row4_col0{\n",
       "            background-color:  #5875e1;\n",
       "            color:  #000000;\n",
       "        }#T_5a70c_row4_col1,#T_5a70c_row11_col1{\n",
       "            background-color:  #455cce;\n",
       "            color:  #f1f1f1;\n",
       "        }#T_5a70c_row4_col2{\n",
       "            background-color:  #7da0f9;\n",
       "            color:  #000000;\n",
       "        }#T_5a70c_row4_col3,#T_5a70c_row5_col3,#T_5a70c_row5_col4,#T_5a70c_row11_col0{\n",
       "            background-color:  #b40426;\n",
       "            color:  #f1f1f1;\n",
       "        }#T_5a70c_row5_col0{\n",
       "            background-color:  #5a78e4;\n",
       "            color:  #000000;\n",
       "        }#T_5a70c_row6_col0,#T_5a70c_row8_col0,#T_5a70c_row9_col0,#T_5a70c_row9_col7{\n",
       "            background-color:  #3d50c3;\n",
       "            color:  #f1f1f1;\n",
       "        }#T_5a70c_row6_col1,#T_5a70c_row8_col1,#T_5a70c_row9_col1,#T_5a70c_row9_col6,#T_5a70c_row11_col9{\n",
       "            background-color:  #3b4cc0;\n",
       "            color:  #f1f1f1;\n",
       "        }#T_5a70c_row6_col2{\n",
       "            background-color:  #4b64d5;\n",
       "            color:  #f1f1f1;\n",
       "        }#T_5a70c_row6_col3,#T_5a70c_row8_col2{\n",
       "            background-color:  #506bda;\n",
       "            color:  #000000;\n",
       "        }#T_5a70c_row6_col4,#T_5a70c_row9_col3,#T_5a70c_row11_col6{\n",
       "            background-color:  #4f69d9;\n",
       "            color:  #000000;\n",
       "        }#T_5a70c_row6_col5{\n",
       "            background-color:  #4c66d6;\n",
       "            color:  #000000;\n",
       "        }#T_5a70c_row7_col0,#T_5a70c_row10_col1,#T_5a70c_row12_col9{\n",
       "            background-color:  #485fd1;\n",
       "            color:  #f1f1f1;\n",
       "        }#T_5a70c_row7_col1,#T_5a70c_row8_col6,#T_5a70c_row10_col6,#T_5a70c_row11_col8,#T_5a70c_row12_col1{\n",
       "            background-color:  #3f53c6;\n",
       "            color:  #f1f1f1;\n",
       "        }#T_5a70c_row7_col2{\n",
       "            background-color:  #7a9df8;\n",
       "            color:  #000000;\n",
       "        }#T_5a70c_row7_col3{\n",
       "            background-color:  #eed0c0;\n",
       "            color:  #000000;\n",
       "        }#T_5a70c_row7_col4{\n",
       "            background-color:  #edd2c3;\n",
       "            color:  #000000;\n",
       "        }#T_5a70c_row7_col5{\n",
       "            background-color:  #edd1c2;\n",
       "            color:  #000000;\n",
       "        }#T_5a70c_row8_col3,#T_5a70c_row12_col8{\n",
       "            background-color:  #5f7fe8;\n",
       "            color:  #000000;\n",
       "        }#T_5a70c_row8_col4{\n",
       "            background-color:  #6282ea;\n",
       "            color:  #000000;\n",
       "        }#T_5a70c_row8_col5{\n",
       "            background-color:  #6485ec;\n",
       "            color:  #000000;\n",
       "        }#T_5a70c_row8_col7{\n",
       "            background-color:  #3e51c5;\n",
       "            color:  #f1f1f1;\n",
       "        }#T_5a70c_row9_col4{\n",
       "            background-color:  #5470de;\n",
       "            color:  #000000;\n",
       "        }#T_5a70c_row9_col5{\n",
       "            background-color:  #536edd;\n",
       "            color:  #000000;\n",
       "        }#T_5a70c_row9_col8,#T_5a70c_row11_col4{\n",
       "            background-color:  #d9dce1;\n",
       "            color:  #000000;\n",
       "        }#T_5a70c_row10_col0{\n",
       "            background-color:  #4a63d3;\n",
       "            color:  #f1f1f1;\n",
       "        }#T_5a70c_row10_col2{\n",
       "            background-color:  #e7745b;\n",
       "            color:  #000000;\n",
       "        }#T_5a70c_row10_col3,#T_5a70c_row10_col4,#T_5a70c_row10_col5{\n",
       "            background-color:  #9fbfff;\n",
       "            color:  #000000;\n",
       "        }#T_5a70c_row10_col7{\n",
       "            background-color:  #aec9fc;\n",
       "            color:  #000000;\n",
       "        }#T_5a70c_row11_col3{\n",
       "            background-color:  #e1dad6;\n",
       "            color:  #000000;\n",
       "        }#T_5a70c_row11_col5{\n",
       "            background-color:  #d3dbe7;\n",
       "            color:  #000000;\n",
       "        }#T_5a70c_row11_col7{\n",
       "            background-color:  #4961d2;\n",
       "            color:  #f1f1f1;\n",
       "        }#T_5a70c_row11_col10{\n",
       "            background-color:  #4e68d8;\n",
       "            color:  #000000;\n",
       "        }#T_5a70c_row12_col0{\n",
       "            background-color:  #516ddb;\n",
       "            color:  #000000;\n",
       "        }#T_5a70c_row12_col2{\n",
       "            background-color:  #adc9fd;\n",
       "            color:  #000000;\n",
       "        }#T_5a70c_row12_col4{\n",
       "            background-color:  #6a8bef;\n",
       "            color:  #000000;\n",
       "        }#T_5a70c_row12_col5{\n",
       "            background-color:  #9abbff;\n",
       "            color:  #000000;\n",
       "        }#T_5a70c_row12_col6{\n",
       "            background-color:  #b7cff9;\n",
       "            color:  #000000;\n",
       "        }#T_5a70c_row12_col7{\n",
       "            background-color:  #7396f5;\n",
       "            color:  #000000;\n",
       "        }#T_5a70c_row12_col10{\n",
       "            background-color:  #81a4fb;\n",
       "            color:  #000000;\n",
       "        }#T_5a70c_row12_col11{\n",
       "            background-color:  #6384eb;\n",
       "            color:  #000000;\n",
       "        }</style><table id=\"T_5a70c_\" ><thead>    <tr>        <th class=\"blank level0\" ></th>        <th class=\"col_heading level0 col0\" >market_id</th>        <th class=\"col_heading level0 col1\" >store_id</th>        <th class=\"col_heading level0 col2\" >subtotal</th>        <th class=\"col_heading level0 col3\" >total_onshift_dashers</th>        <th class=\"col_heading level0 col4\" >total_busy_dashers</th>        <th class=\"col_heading level0 col5\" >total_outstanding_orders</th>        <th class=\"col_heading level0 col6\" >estimated_store_to_consumer_driving_duration</th>        <th class=\"col_heading level0 col7\" >order_time</th>        <th class=\"col_heading level0 col8\" >which_day_of_week</th>        <th class=\"col_heading level0 col9\" >holiday</th>        <th class=\"col_heading level0 col10\" >average_subtotal_per_store</th>        <th class=\"col_heading level0 col11\" >market_scale</th>        <th class=\"col_heading level0 col12\" >actual_total_time</th>    </tr></thead><tbody>\n",
       "                <tr>\n",
       "                        <th id=\"T_5a70c_level0_row0\" class=\"row_heading level0 row0\" >market_id</th>\n",
       "                        <td id=\"T_5a70c_row0_col0\" class=\"data row0 col0\" >nan</td>\n",
       "                        <td id=\"T_5a70c_row0_col1\" class=\"data row0 col1\" >nan</td>\n",
       "                        <td id=\"T_5a70c_row0_col2\" class=\"data row0 col2\" >nan</td>\n",
       "                        <td id=\"T_5a70c_row0_col3\" class=\"data row0 col3\" >nan</td>\n",
       "                        <td id=\"T_5a70c_row0_col4\" class=\"data row0 col4\" >nan</td>\n",
       "                        <td id=\"T_5a70c_row0_col5\" class=\"data row0 col5\" >nan</td>\n",
       "                        <td id=\"T_5a70c_row0_col6\" class=\"data row0 col6\" >nan</td>\n",
       "                        <td id=\"T_5a70c_row0_col7\" class=\"data row0 col7\" >nan</td>\n",
       "                        <td id=\"T_5a70c_row0_col8\" class=\"data row0 col8\" >nan</td>\n",
       "                        <td id=\"T_5a70c_row0_col9\" class=\"data row0 col9\" >nan</td>\n",
       "                        <td id=\"T_5a70c_row0_col10\" class=\"data row0 col10\" >nan</td>\n",
       "                        <td id=\"T_5a70c_row0_col11\" class=\"data row0 col11\" >nan</td>\n",
       "                        <td id=\"T_5a70c_row0_col12\" class=\"data row0 col12\" >nan</td>\n",
       "            </tr>\n",
       "            <tr>\n",
       "                        <th id=\"T_5a70c_level0_row1\" class=\"row_heading level0 row1\" >store_id</th>\n",
       "                        <td id=\"T_5a70c_row1_col0\" class=\"data row1 col0\" >0.02</td>\n",
       "                        <td id=\"T_5a70c_row1_col1\" class=\"data row1 col1\" >nan</td>\n",
       "                        <td id=\"T_5a70c_row1_col2\" class=\"data row1 col2\" >nan</td>\n",
       "                        <td id=\"T_5a70c_row1_col3\" class=\"data row1 col3\" >nan</td>\n",
       "                        <td id=\"T_5a70c_row1_col4\" class=\"data row1 col4\" >nan</td>\n",
       "                        <td id=\"T_5a70c_row1_col5\" class=\"data row1 col5\" >nan</td>\n",
       "                        <td id=\"T_5a70c_row1_col6\" class=\"data row1 col6\" >nan</td>\n",
       "                        <td id=\"T_5a70c_row1_col7\" class=\"data row1 col7\" >nan</td>\n",
       "                        <td id=\"T_5a70c_row1_col8\" class=\"data row1 col8\" >nan</td>\n",
       "                        <td id=\"T_5a70c_row1_col9\" class=\"data row1 col9\" >nan</td>\n",
       "                        <td id=\"T_5a70c_row1_col10\" class=\"data row1 col10\" >nan</td>\n",
       "                        <td id=\"T_5a70c_row1_col11\" class=\"data row1 col11\" >nan</td>\n",
       "                        <td id=\"T_5a70c_row1_col12\" class=\"data row1 col12\" >nan</td>\n",
       "            </tr>\n",
       "            <tr>\n",
       "                        <th id=\"T_5a70c_level0_row2\" class=\"row_heading level0 row2\" >subtotal</th>\n",
       "                        <td id=\"T_5a70c_row2_col0\" class=\"data row2 col0\" >0.02</td>\n",
       "                        <td id=\"T_5a70c_row2_col1\" class=\"data row2 col1\" >0.01</td>\n",
       "                        <td id=\"T_5a70c_row2_col2\" class=\"data row2 col2\" >nan</td>\n",
       "                        <td id=\"T_5a70c_row2_col3\" class=\"data row2 col3\" >nan</td>\n",
       "                        <td id=\"T_5a70c_row2_col4\" class=\"data row2 col4\" >nan</td>\n",
       "                        <td id=\"T_5a70c_row2_col5\" class=\"data row2 col5\" >nan</td>\n",
       "                        <td id=\"T_5a70c_row2_col6\" class=\"data row2 col6\" >nan</td>\n",
       "                        <td id=\"T_5a70c_row2_col7\" class=\"data row2 col7\" >nan</td>\n",
       "                        <td id=\"T_5a70c_row2_col8\" class=\"data row2 col8\" >nan</td>\n",
       "                        <td id=\"T_5a70c_row2_col9\" class=\"data row2 col9\" >nan</td>\n",
       "                        <td id=\"T_5a70c_row2_col10\" class=\"data row2 col10\" >nan</td>\n",
       "                        <td id=\"T_5a70c_row2_col11\" class=\"data row2 col11\" >nan</td>\n",
       "                        <td id=\"T_5a70c_row2_col12\" class=\"data row2 col12\" >nan</td>\n",
       "            </tr>\n",
       "            <tr>\n",
       "                        <th id=\"T_5a70c_level0_row3\" class=\"row_heading level0 row3\" >total_onshift_dashers</th>\n",
       "                        <td id=\"T_5a70c_row3_col0\" class=\"data row3 col0\" >0.06</td>\n",
       "                        <td id=\"T_5a70c_row3_col1\" class=\"data row3 col1\" >0.02</td>\n",
       "                        <td id=\"T_5a70c_row3_col2\" class=\"data row3 col2\" >0.13</td>\n",
       "                        <td id=\"T_5a70c_row3_col3\" class=\"data row3 col3\" >nan</td>\n",
       "                        <td id=\"T_5a70c_row3_col4\" class=\"data row3 col4\" >nan</td>\n",
       "                        <td id=\"T_5a70c_row3_col5\" class=\"data row3 col5\" >nan</td>\n",
       "                        <td id=\"T_5a70c_row3_col6\" class=\"data row3 col6\" >nan</td>\n",
       "                        <td id=\"T_5a70c_row3_col7\" class=\"data row3 col7\" >nan</td>\n",
       "                        <td id=\"T_5a70c_row3_col8\" class=\"data row3 col8\" >nan</td>\n",
       "                        <td id=\"T_5a70c_row3_col9\" class=\"data row3 col9\" >nan</td>\n",
       "                        <td id=\"T_5a70c_row3_col10\" class=\"data row3 col10\" >nan</td>\n",
       "                        <td id=\"T_5a70c_row3_col11\" class=\"data row3 col11\" >nan</td>\n",
       "                        <td id=\"T_5a70c_row3_col12\" class=\"data row3 col12\" >nan</td>\n",
       "            </tr>\n",
       "            <tr>\n",
       "                        <th id=\"T_5a70c_level0_row4\" class=\"row_heading level0 row4\" >total_busy_dashers</th>\n",
       "                        <td id=\"T_5a70c_row4_col0\" class=\"data row4 col0\" >0.06</td>\n",
       "                        <td id=\"T_5a70c_row4_col1\" class=\"data row4 col1\" >0.02</td>\n",
       "                        <td id=\"T_5a70c_row4_col2\" class=\"data row4 col2\" >0.12</td>\n",
       "                        <td id=\"T_5a70c_row4_col3\" class=\"data row4 col3\" >0.97</td>\n",
       "                        <td id=\"T_5a70c_row4_col4\" class=\"data row4 col4\" >nan</td>\n",
       "                        <td id=\"T_5a70c_row4_col5\" class=\"data row4 col5\" >nan</td>\n",
       "                        <td id=\"T_5a70c_row4_col6\" class=\"data row4 col6\" >nan</td>\n",
       "                        <td id=\"T_5a70c_row4_col7\" class=\"data row4 col7\" >nan</td>\n",
       "                        <td id=\"T_5a70c_row4_col8\" class=\"data row4 col8\" >nan</td>\n",
       "                        <td id=\"T_5a70c_row4_col9\" class=\"data row4 col9\" >nan</td>\n",
       "                        <td id=\"T_5a70c_row4_col10\" class=\"data row4 col10\" >nan</td>\n",
       "                        <td id=\"T_5a70c_row4_col11\" class=\"data row4 col11\" >nan</td>\n",
       "                        <td id=\"T_5a70c_row4_col12\" class=\"data row4 col12\" >nan</td>\n",
       "            </tr>\n",
       "            <tr>\n",
       "                        <th id=\"T_5a70c_level0_row5\" class=\"row_heading level0 row5\" >total_outstanding_orders</th>\n",
       "                        <td id=\"T_5a70c_row5_col0\" class=\"data row5 col0\" >0.06</td>\n",
       "                        <td id=\"T_5a70c_row5_col1\" class=\"data row5 col1\" >0.02</td>\n",
       "                        <td id=\"T_5a70c_row5_col2\" class=\"data row5 col2\" >0.13</td>\n",
       "                        <td id=\"T_5a70c_row5_col3\" class=\"data row5 col3\" >0.92</td>\n",
       "                        <td id=\"T_5a70c_row5_col4\" class=\"data row5 col4\" >0.93</td>\n",
       "                        <td id=\"T_5a70c_row5_col5\" class=\"data row5 col5\" >nan</td>\n",
       "                        <td id=\"T_5a70c_row5_col6\" class=\"data row5 col6\" >nan</td>\n",
       "                        <td id=\"T_5a70c_row5_col7\" class=\"data row5 col7\" >nan</td>\n",
       "                        <td id=\"T_5a70c_row5_col8\" class=\"data row5 col8\" >nan</td>\n",
       "                        <td id=\"T_5a70c_row5_col9\" class=\"data row5 col9\" >nan</td>\n",
       "                        <td id=\"T_5a70c_row5_col10\" class=\"data row5 col10\" >nan</td>\n",
       "                        <td id=\"T_5a70c_row5_col11\" class=\"data row5 col11\" >nan</td>\n",
       "                        <td id=\"T_5a70c_row5_col12\" class=\"data row5 col12\" >nan</td>\n",
       "            </tr>\n",
       "            <tr>\n",
       "                        <th id=\"T_5a70c_level0_row6\" class=\"row_heading level0 row6\" >estimated_store_to_consumer_driving_duration</th>\n",
       "                        <td id=\"T_5a70c_row6_col0\" class=\"data row6 col0\" >0.01</td>\n",
       "                        <td id=\"T_5a70c_row6_col1\" class=\"data row6 col1\" >0.00</td>\n",
       "                        <td id=\"T_5a70c_row6_col2\" class=\"data row6 col2\" >0.03</td>\n",
       "                        <td id=\"T_5a70c_row6_col3\" class=\"data row6 col3\" >0.04</td>\n",
       "                        <td id=\"T_5a70c_row6_col4\" class=\"data row6 col4\" >0.04</td>\n",
       "                        <td id=\"T_5a70c_row6_col5\" class=\"data row6 col5\" >0.04</td>\n",
       "                        <td id=\"T_5a70c_row6_col6\" class=\"data row6 col6\" >nan</td>\n",
       "                        <td id=\"T_5a70c_row6_col7\" class=\"data row6 col7\" >nan</td>\n",
       "                        <td id=\"T_5a70c_row6_col8\" class=\"data row6 col8\" >nan</td>\n",
       "                        <td id=\"T_5a70c_row6_col9\" class=\"data row6 col9\" >nan</td>\n",
       "                        <td id=\"T_5a70c_row6_col10\" class=\"data row6 col10\" >nan</td>\n",
       "                        <td id=\"T_5a70c_row6_col11\" class=\"data row6 col11\" >nan</td>\n",
       "                        <td id=\"T_5a70c_row6_col12\" class=\"data row6 col12\" >nan</td>\n",
       "            </tr>\n",
       "            <tr>\n",
       "                        <th id=\"T_5a70c_level0_row7\" class=\"row_heading level0 row7\" >order_time</th>\n",
       "                        <td id=\"T_5a70c_row7_col0\" class=\"data row7 col0\" >0.03</td>\n",
       "                        <td id=\"T_5a70c_row7_col1\" class=\"data row7 col1\" >0.01</td>\n",
       "                        <td id=\"T_5a70c_row7_col2\" class=\"data row7 col2\" >0.12</td>\n",
       "                        <td id=\"T_5a70c_row7_col3\" class=\"data row7 col3\" >0.34</td>\n",
       "                        <td id=\"T_5a70c_row7_col4\" class=\"data row7 col4\" >0.34</td>\n",
       "                        <td id=\"T_5a70c_row7_col5\" class=\"data row7 col5\" >0.34</td>\n",
       "                        <td id=\"T_5a70c_row7_col6\" class=\"data row7 col6\" >0.01</td>\n",
       "                        <td id=\"T_5a70c_row7_col7\" class=\"data row7 col7\" >nan</td>\n",
       "                        <td id=\"T_5a70c_row7_col8\" class=\"data row7 col8\" >nan</td>\n",
       "                        <td id=\"T_5a70c_row7_col9\" class=\"data row7 col9\" >nan</td>\n",
       "                        <td id=\"T_5a70c_row7_col10\" class=\"data row7 col10\" >nan</td>\n",
       "                        <td id=\"T_5a70c_row7_col11\" class=\"data row7 col11\" >nan</td>\n",
       "                        <td id=\"T_5a70c_row7_col12\" class=\"data row7 col12\" >nan</td>\n",
       "            </tr>\n",
       "            <tr>\n",
       "                        <th id=\"T_5a70c_level0_row8\" class=\"row_heading level0 row8\" >which_day_of_week</th>\n",
       "                        <td id=\"T_5a70c_row8_col0\" class=\"data row8 col0\" >0.01</td>\n",
       "                        <td id=\"T_5a70c_row8_col1\" class=\"data row8 col1\" >0.00</td>\n",
       "                        <td id=\"T_5a70c_row8_col2\" class=\"data row8 col2\" >0.04</td>\n",
       "                        <td id=\"T_5a70c_row8_col3\" class=\"data row8 col3\" >0.07</td>\n",
       "                        <td id=\"T_5a70c_row8_col4\" class=\"data row8 col4\" >0.08</td>\n",
       "                        <td id=\"T_5a70c_row8_col5\" class=\"data row8 col5\" >0.08</td>\n",
       "                        <td id=\"T_5a70c_row8_col6\" class=\"data row8 col6\" >0.01</td>\n",
       "                        <td id=\"T_5a70c_row8_col7\" class=\"data row8 col7\" >0.01</td>\n",
       "                        <td id=\"T_5a70c_row8_col8\" class=\"data row8 col8\" >nan</td>\n",
       "                        <td id=\"T_5a70c_row8_col9\" class=\"data row8 col9\" >nan</td>\n",
       "                        <td id=\"T_5a70c_row8_col10\" class=\"data row8 col10\" >nan</td>\n",
       "                        <td id=\"T_5a70c_row8_col11\" class=\"data row8 col11\" >nan</td>\n",
       "                        <td id=\"T_5a70c_row8_col12\" class=\"data row8 col12\" >nan</td>\n",
       "            </tr>\n",
       "            <tr>\n",
       "                        <th id=\"T_5a70c_level0_row9\" class=\"row_heading level0 row9\" >holiday</th>\n",
       "                        <td id=\"T_5a70c_row9_col0\" class=\"data row9 col0\" >0.01</td>\n",
       "                        <td id=\"T_5a70c_row9_col1\" class=\"data row9 col1\" >0.00</td>\n",
       "                        <td id=\"T_5a70c_row9_col2\" class=\"data row9 col2\" >0.02</td>\n",
       "                        <td id=\"T_5a70c_row9_col3\" class=\"data row9 col3\" >0.04</td>\n",
       "                        <td id=\"T_5a70c_row9_col4\" class=\"data row9 col4\" >0.05</td>\n",
       "                        <td id=\"T_5a70c_row9_col5\" class=\"data row9 col5\" >0.05</td>\n",
       "                        <td id=\"T_5a70c_row9_col6\" class=\"data row9 col6\" >0.00</td>\n",
       "                        <td id=\"T_5a70c_row9_col7\" class=\"data row9 col7\" >0.01</td>\n",
       "                        <td id=\"T_5a70c_row9_col8\" class=\"data row9 col8\" >0.29</td>\n",
       "                        <td id=\"T_5a70c_row9_col9\" class=\"data row9 col9\" >nan</td>\n",
       "                        <td id=\"T_5a70c_row9_col10\" class=\"data row9 col10\" >nan</td>\n",
       "                        <td id=\"T_5a70c_row9_col11\" class=\"data row9 col11\" >nan</td>\n",
       "                        <td id=\"T_5a70c_row9_col12\" class=\"data row9 col12\" >nan</td>\n",
       "            </tr>\n",
       "            <tr>\n",
       "                        <th id=\"T_5a70c_level0_row10\" class=\"row_heading level0 row10\" >average_subtotal_per_store</th>\n",
       "                        <td id=\"T_5a70c_row10_col0\" class=\"data row10 col0\" >0.03</td>\n",
       "                        <td id=\"T_5a70c_row10_col1\" class=\"data row10 col1\" >0.03</td>\n",
       "                        <td id=\"T_5a70c_row10_col2\" class=\"data row10 col2\" >0.50</td>\n",
       "                        <td id=\"T_5a70c_row10_col3\" class=\"data row10 col3\" >0.18</td>\n",
       "                        <td id=\"T_5a70c_row10_col4\" class=\"data row10 col4\" >0.18</td>\n",
       "                        <td id=\"T_5a70c_row10_col5\" class=\"data row10 col5\" >0.18</td>\n",
       "                        <td id=\"T_5a70c_row10_col6\" class=\"data row10 col6\" >0.01</td>\n",
       "                        <td id=\"T_5a70c_row10_col7\" class=\"data row10 col7\" >0.21</td>\n",
       "                        <td id=\"T_5a70c_row10_col8\" class=\"data row10 col8\" >0.02</td>\n",
       "                        <td id=\"T_5a70c_row10_col9\" class=\"data row10 col9\" >0.01</td>\n",
       "                        <td id=\"T_5a70c_row10_col10\" class=\"data row10 col10\" >nan</td>\n",
       "                        <td id=\"T_5a70c_row10_col11\" class=\"data row10 col11\" >nan</td>\n",
       "                        <td id=\"T_5a70c_row10_col12\" class=\"data row10 col12\" >nan</td>\n",
       "            </tr>\n",
       "            <tr>\n",
       "                        <th id=\"T_5a70c_level0_row11\" class=\"row_heading level0 row11\" >market_scale</th>\n",
       "                        <td id=\"T_5a70c_row11_col0\" class=\"data row11 col0\" >0.81</td>\n",
       "                        <td id=\"T_5a70c_row11_col1\" class=\"data row11 col1\" >0.02</td>\n",
       "                        <td id=\"T_5a70c_row11_col2\" class=\"data row11 col2\" >0.02</td>\n",
       "                        <td id=\"T_5a70c_row11_col3\" class=\"data row11 col3\" >0.31</td>\n",
       "                        <td id=\"T_5a70c_row11_col4\" class=\"data row11 col4\" >0.29</td>\n",
       "                        <td id=\"T_5a70c_row11_col5\" class=\"data row11 col5\" >0.28</td>\n",
       "                        <td id=\"T_5a70c_row11_col6\" class=\"data row11 col6\" >0.04</td>\n",
       "                        <td id=\"T_5a70c_row11_col7\" class=\"data row11 col7\" >0.03</td>\n",
       "                        <td id=\"T_5a70c_row11_col8\" class=\"data row11 col8\" >0.01</td>\n",
       "                        <td id=\"T_5a70c_row11_col9\" class=\"data row11 col9\" >0.00</td>\n",
       "                        <td id=\"T_5a70c_row11_col10\" class=\"data row11 col10\" >0.04</td>\n",
       "                        <td id=\"T_5a70c_row11_col11\" class=\"data row11 col11\" >nan</td>\n",
       "                        <td id=\"T_5a70c_row11_col12\" class=\"data row11 col12\" >nan</td>\n",
       "            </tr>\n",
       "            <tr>\n",
       "                        <th id=\"T_5a70c_level0_row12\" class=\"row_heading level0 row12\" >actual_total_time</th>\n",
       "                        <td id=\"T_5a70c_row12_col0\" class=\"data row12 col0\" >0.05</td>\n",
       "                        <td id=\"T_5a70c_row12_col1\" class=\"data row12 col1\" >0.01</td>\n",
       "                        <td id=\"T_5a70c_row12_col2\" class=\"data row12 col2\" >0.20</td>\n",
       "                        <td id=\"T_5a70c_row12_col3\" class=\"data row12 col3\" >0.06</td>\n",
       "                        <td id=\"T_5a70c_row12_col4\" class=\"data row12 col4\" >0.09</td>\n",
       "                        <td id=\"T_5a70c_row12_col5\" class=\"data row12 col5\" >0.17</td>\n",
       "                        <td id=\"T_5a70c_row12_col6\" class=\"data row12 col6\" >0.22</td>\n",
       "                        <td id=\"T_5a70c_row12_col7\" class=\"data row12 col7\" >0.11</td>\n",
       "                        <td id=\"T_5a70c_row12_col8\" class=\"data row12 col8\" >0.07</td>\n",
       "                        <td id=\"T_5a70c_row12_col9\" class=\"data row12 col9\" >0.03</td>\n",
       "                        <td id=\"T_5a70c_row12_col10\" class=\"data row12 col10\" >0.13</td>\n",
       "                        <td id=\"T_5a70c_row12_col11\" class=\"data row12 col11\" >0.08</td>\n",
       "                        <td id=\"T_5a70c_row12_col12\" class=\"data row12 col12\" >nan</td>\n",
       "            </tr>\n",
       "    </tbody></table>"
      ],
      "text/plain": [
       "<pandas.io.formats.style.Styler at 0x7fbe6f35e490>"
      ]
     },
     "execution_count": 37,
     "metadata": {},
     "output_type": "execute_result"
    }
   ],
   "source": [
    "mask = np.zeros_like(corr, dtype=bool)\n",
    "mask[np.triu_indices_from(mask)] = True\n",
    "corr[mask] = np.nan\n",
    "(corr.style\n",
    " .background_gradient(cmap='coolwarm', axis=None, vmin=0, vmax=0.6)\n",
    " .highlight_null(null_color='#f1f1f1')  # Color NaNs grey\n",
    " .set_precision(2))"
   ]
  },
  {
   "cell_type": "markdown",
   "id": "6eecce48",
   "metadata": {},
   "source": [
    "#### Discussion on correlation between features and `actual_total_time`\n",
    "\n",
    "By intentionally making `actual_total_time` as the last column in our feature matrix, we can have a clearer view on how this feature is impacted by all the other features that we determined that might be influencing the delivery time. \n",
    "\n",
    "| Strong Impact (> 0.1)                                  | Medium Impact (0.05 - 0.1)     | Low Impact (< 0.05) |\n",
    "| :---:                                                   |    :----:                      |           :---:      |\n",
    "| subtotal                                               | market_id                    | store_id\t       |\n",
    "| total_outstanding_orders                               | total_onshift_dashers        | holiday           |\n",
    "| estimated_store_to_consumer_driving_duration         | total_busy_dashers\t         |                     |\n",
    "| order_time                                           | which_day_of_week            |                     |\n",
    "| average_subtotal_per_store\t                        | market_scale\t             |                     |\n",
    "\n",
    "Now, **we have made sense of most of the data in the data set. Hence, we are finally ready to start building new models with the current data we have in hand.**"
   ]
  },
  {
   "cell_type": "markdown",
   "id": "fc952612",
   "metadata": {},
   "source": [
    "## Machine Learning Model<a name=\"mlmodel\"></a>\n",
    "\n",
    "### Discussion on Model Selection<a name=\"selection\"></a>\n",
    "The overall business problem has already been defined clearly in the earlier sections. We wanted to predict the **total delivery time in seconds** as accurately as one could get to, which is a continuous value that could be better modeled in a regression problem. Hence, we will be selecting those ML models that are more well-known to treat the regression problems, including:\n",
    "- A simple linear regression to check out the basic feature importance,\n",
    "- A Lasso regression that helps stabilize the linear model,\n",
    "- A random forest approach that uses ensemble learning method for regression,\n",
    "- A XGboost algorithm that provides a regularizing gradient boosting framework."
   ]
  },
  {
   "cell_type": "markdown",
   "id": "e383fd65",
   "metadata": {},
   "source": [
    "### Data and Function Preparation for ML Models<a name=\"prepare\"></a>"
   ]
  },
  {
   "cell_type": "code",
   "execution_count": 38,
   "id": "6f1be86e",
   "metadata": {},
   "outputs": [],
   "source": [
    "actual_feature = [col for col in df_train.columns if 'actual' in col]\n",
    "noactual = df_train.loc[:, ~df_train.columns.isin(actual_feature)]\n",
    "infeature = noactual.loc[:, noactual.columns != \"created_at\"]\n",
    "y=df_train['actual_total_time'].astype('int64')"
   ]
  },
  {
   "cell_type": "code",
   "execution_count": 39,
   "id": "5a11a43d",
   "metadata": {},
   "outputs": [],
   "source": [
    "#error functions that are used for better printing\n",
    "\n",
    "def run_error_result(actual,forecast,name):\n",
    "    result_mae = 0 \n",
    "    result_mape = 0\n",
    "    for a,f in zip(actual,forecast):\n",
    "        result_mae += abs(a-f)\n",
    "        result_mape += abs(a-f)/a\n",
    "    mae = result_mae/len(forecast)\n",
    "    mape = result_mape/len(forecast)\n",
    "\n",
    "    rmse = np.sqrt(mean_squared_error(actual, forecast))\n",
    "    \n",
    "    return pd.DataFrame({'MAE':[mae],'MAPE': [mape],'RMSE': [rmse]},index=pd.Series([name]))"
   ]
  },
  {
   "cell_type": "code",
   "execution_count": 40,
   "id": "80d44a2b",
   "metadata": {},
   "outputs": [],
   "source": [
    "#a simple print function that handles printings in sklearn \n",
    "\n",
    "def print_sklearn(model, X_train, y_train, X_test, y_test, y_pred, cv_scores):\n",
    "    print(\"ML Library: \")\n",
    "    print(\"\\n Training -------------------\\n\")\n",
    "    print(\" R2 value(training): {:.3f}\".format(model.score(X_train, y_train)))\n",
    "    print(\"\\n Cross validation scores:\")\n",
    "    print(\" R2 (training) values:\")\n",
    "    print(cv_scores[\"train_r2\"])\n",
    "    print(\" neg-mean-absolute-error (training) values:\")\n",
    "    print(cv_scores[\"train_neg_mean_absolute_error\"])\n",
    "    print(\"------------------------------------\\n\")\n",
    "    print(\"\\n Testing -------------------\\n\")\n",
    "    print(\" R2 value(testing): {:.3f}\".format(model.score(X_test, y_test)))\n",
    "    print(\"\\n Cross validation scores:\")\n",
    "    print(' R2 (testing) values:')\n",
    "    print(cv_scores[\"test_r2\"])\n",
    "    print(\" neg-mean-absolute-error (testing) values:\")\n",
    "    print(cv_scores[\"test_neg_mean_absolute_error\"])\n",
    "    print(' Mean squared error: %.2f'\n",
    "      % mean_squared_error(y_test, y_pred))\n",
    "    print(' Root Mean squared error: %.2f'\n",
    "      % mean_squared_error(y_test, y_pred, squared = False))\n",
    "    print(' Mean absolute error %.2f'\n",
    "      % mean_absolute_error(y_test, y_pred))\n",
    "    print(' Mean absolute percentage error %.2f'\n",
    "      % mean_absolute_percentage_error(y_test, y_pred))\n",
    "    print(\"------------------------------------\\n\")\n",
    "    return 0"
   ]
  },
  {
   "cell_type": "code",
   "execution_count": 41,
   "id": "b8e21a79",
   "metadata": {},
   "outputs": [],
   "source": [
    "def early_or_late(y_pred, y_test, model_name):\n",
    "    df_pred = pd.DataFrame(y_test)\n",
    "    string_name = model_name + '_prediction_accuracy'\n",
    "    df_pred[\"pred_total_time\"] = y_pred\n",
    "    df_pred[\"diff_total_time\"] = (y_pred - y_test)\n",
    "    conditions = [\n",
    "        (df_pred['diff_total_time'] < -600),\n",
    "        (df_pred['diff_total_time'] >= -600) & (df_pred['diff_total_time'] < 0),\n",
    "        (df_pred['diff_total_time'] == 0),\n",
    "        (df_pred['diff_total_time'] > 0) & (df_pred['diff_total_time'] < 600),\n",
    "        (df_pred['diff_total_time'] > 600)\n",
    "    ]\n",
    "    values = ['very early', 'slightly early', 'on time', 'slightly late', 'very late']\n",
    "    df_pred[string_name] = np.select(conditions, values)\n",
    "    \n",
    "    #count and print out the percentage at each accuracy level\n",
    "    df_count = df_pred[string_name].value_counts()/len(df_pred)*100\n",
    "    print(df_pred[string_name].value_counts()/len(df_pred)*100)\n",
    "    print(\"<-------------------------------->\")\n",
    "    \n",
    "    return df_count"
   ]
  },
  {
   "cell_type": "markdown",
   "id": "51e9f0be",
   "metadata": {},
   "source": [
    "### Linear Regression Model<a name=\"lrmodel\"></a>\n",
    "For the purpose of gradually learning the data, we **start with the most efficient but universally used model, aka the linear regression model, to check out the basic properties of the features** that we included in the model."
   ]
  },
  {
   "cell_type": "code",
   "execution_count": 42,
   "id": "d5f69157",
   "metadata": {},
   "outputs": [],
   "source": [
    "def delivery_lr(X, y):\n",
    "    #Defining the scoring metrics\n",
    "    scoring = ['r2', 'neg_mean_absolute_error', 'neg_mean_squared_error']\n",
    "    \n",
    "    #Data partitioning into training and testing sets\n",
    "    X_train, X_test, y_train, y_test = train_test_split(X, y, test_size=0.40,random_state=0)  \n",
    "    #fit LR model\n",
    "    model = LinearRegression().fit(X_train, y_train)  \n",
    "    cv = RepeatedKFold(n_splits=5, n_repeats=3, random_state=0)\n",
    "    cv_scores = cross_validate(model, X, y, scoring=scoring,\n",
    "                         cv=cv, return_train_score=True)\n",
    "    y_pred = model.predict(X_test)\n",
    "\n",
    "    print_sklearn(model, X_train, y_train, X_test, y_test, y_pred, cv_scores)\n",
    "    \n",
    "    print(\"\\n Feature Importances: ---------- \")\n",
    "    r = permutation_importance(model, X_train, y_train,n_repeats=15,\\\n",
    "                               random_state=0)\n",
    "    for i in r.importances_mean.argsort()[::-1]:\n",
    "        if r.importances_mean[i] - 2 * r.importances_std[i] > 0:\n",
    "            print(f\"    {X_train.columns[i]:<15}\"\\\n",
    "                   f\"   {r.importances_mean[i]:.3f}\"\\\n",
    "                   f\" +/- {r.importances_std[i]:.3f}\")\n",
    "        else:\n",
    "            print(\"Negative importance:\")\n",
    "            print(f\"    {X_train.columns[i]:<15}\"\\\n",
    "                   f\"   {r.importances_mean[i]:.3f}\"\\\n",
    "                   f\" +/- {r.importances_std[i]:.3f}\")            \n",
    "    \n",
    "    print(\"\\n\")\n",
    "    \n",
    "    print(\"StatsModels Info: \\n\")\n",
    "    # with statsmodels\n",
    "    x_train = sm.add_constant(X_train) # adding a constant\n",
    "    x_test = sm.add_constant(X_test) # adding a constant\n",
    "    \n",
    "    model_sm = sm.OLS(y_train.astype(float), X_train.astype(float)).fit()\n",
    "    print(model_sm.summary())\n",
    "\n",
    "    ## predict train set  (in-sample)\n",
    "    in_forecast = model_sm.predict(X_train)\n",
    "    \n",
    "    print(\"\\n Error Data:\")\n",
    "    print(run_error_result(y_test, y_pred,'Test data'))\n",
    "    print(run_error_result(y_train, in_forecast,'Training data'))\n",
    "    return y_pred, y_test"
   ]
  },
  {
   "cell_type": "code",
   "execution_count": 43,
   "id": "8e291aff",
   "metadata": {
    "scrolled": true
   },
   "outputs": [
    {
     "name": "stdout",
     "output_type": "stream",
     "text": [
      "ML Library: \n",
      "\n",
      " Training -------------------\n",
      "\n",
      " R2 value(training): 0.183\n",
      "\n",
      " Cross validation scores:\n",
      " R2 (training) values:\n",
      "[0.18797692 0.18549902 0.18538947 0.19679297 0.1910698  0.19153552\n",
      " 0.191191   0.18627138 0.1877626  0.18956512 0.18655284 0.18847341\n",
      " 0.18787652 0.19288247 0.19056469]\n",
      " neg-mean-absolute-error (training) values:\n",
      "[-720.27260792 -720.08520635 -722.1544838  -716.64741668 -718.5966581\n",
      " -718.82730184 -719.10047374 -720.33740604 -718.8194646  -720.68954027\n",
      " -719.07977778 -719.24252469 -719.26143758 -719.35010134 -720.81844813]\n",
      "------------------------------------\n",
      "\n",
      "\n",
      " Testing -------------------\n",
      "\n",
      " R2 value(testing): 0.200\n",
      "\n",
      " Cross validation scores:\n",
      " R2 (testing) values:\n",
      "[0.19440877 0.20571031 0.20578353 0.16438606 0.18190975 0.18054844\n",
      " 0.18121202 0.20207837 0.19503683 0.1878769  0.2006204  0.1922567\n",
      " 0.19461801 0.17580561 0.183905  ]\n",
      " neg-mean-absolute-error (testing) values:\n",
      "[-718.34383591 -717.58594174 -711.56282517 -727.86893077 -722.76927222\n",
      " -722.50696791 -722.3578036  -716.16749202 -722.11921659 -714.878515\n",
      " -721.56152205 -720.21088091 -720.54471997 -719.80602005 -715.95845015]\n",
      " Mean squared error: 1021521.27\n",
      " Root Mean squared error: 1010.70\n",
      " Mean absolute error 718.28\n",
      " Mean absolute percentage error 0.27\n",
      "------------------------------------\n",
      "\n",
      "\n",
      " Feature Importances: ---------- \n",
      "    total_outstanding_orders   1.096 +/- 0.005\n",
      "    total_onshift_dashers   0.656 +/- 0.003\n",
      "    estimated_store_to_consumer_driving_duration   0.096 +/- 0.001\n",
      "    subtotal          0.055 +/- 0.001\n",
      "    market_scale      0.047 +/- 0.001\n",
      "    market_id         0.012 +/- 0.001\n",
      "    total_busy_dashers   0.007 +/- 0.000\n",
      "    which_day_of_week   0.006 +/- 0.000\n",
      "    order_time        0.004 +/- 0.000\n",
      "    average_subtotal_per_store   0.000 +/- 0.000\n",
      "Negative importance:\n",
      "    store_id          0.000 +/- 0.000\n",
      "Negative importance:\n",
      "    holiday           -0.000 +/- 0.000\n",
      "\n",
      "\n",
      "StatsModels Info: \n",
      "\n",
      "                                 OLS Regression Results                                \n",
      "=======================================================================================\n",
      "Dep. Variable:      actual_total_time   R-squared (uncentered):                   0.880\n",
      "Model:                            OLS   Adj. R-squared (uncentered):              0.880\n",
      "Method:                 Least Squares   F-statistic:                          7.210e+04\n",
      "Date:                Tue, 16 Nov 2021   Prob (F-statistic):                        0.00\n",
      "Time:                        13:40:19   Log-Likelihood:                     -9.9214e+05\n",
      "No. Observations:              118132   AIC:                                  1.984e+06\n",
      "Df Residuals:                  118120   BIC:                                  1.984e+06\n",
      "Df Model:                          12                                                  \n",
      "Covariance Type:            nonrobust                                                  \n",
      "================================================================================================================\n",
      "                                                   coef    std err          t      P>|t|      [0.025      0.975]\n",
      "----------------------------------------------------------------------------------------------------------------\n",
      "market_id                                      108.1615      2.316     46.707      0.000     103.623     112.700\n",
      "store_id                                         0.0026      0.002      1.757      0.079      -0.000       0.006\n",
      "subtotal                                         0.1063      0.002     53.605      0.000       0.102       0.110\n",
      "total_onshift_dashers                          -18.8318      0.395    -47.679      0.000     -19.606     -18.058\n",
      "total_busy_dashers                              -2.2077      0.465     -4.747      0.000      -3.119      -1.296\n",
      "total_outstanding_orders                        16.8400      0.175     96.482      0.000      16.498      17.182\n",
      "estimated_store_to_consumer_driving_duration     1.2428      0.014     89.332      0.000       1.215       1.270\n",
      "order_time                                      20.5497      1.010     20.356      0.000      18.571      22.528\n",
      "which_day_of_week                               34.8535      1.645     21.183      0.000      31.629      38.078\n",
      "holiday                                         19.3388     18.804      1.028      0.304     -17.517      56.194\n",
      "average_subtotal_per_store                       0.0184      0.004      4.563      0.000       0.010       0.026\n",
      "market_scale                                     0.5104      0.006     81.301      0.000       0.498       0.523\n",
      "==============================================================================\n",
      "Omnibus:                   151273.374   Durbin-Watson:                   1.993\n",
      "Prob(Omnibus):                  0.000   Jarque-Bera (JB):        159025728.370\n",
      "Skew:                           6.438   Prob(JB):                         0.00\n",
      "Kurtosis:                     182.283   Cond. No.                     3.53e+04\n",
      "==============================================================================\n",
      "\n",
      "Notes:\n",
      "[1] R² is computed without centering (uncentered) since the model does not contain a constant.\n",
      "[2] Standard Errors assume that the covariance matrix of the errors is correctly specified.\n",
      "[3] The condition number is large, 3.53e+04. This might indicate that there are\n",
      "strong multicollinearity or other numerical problems.\n",
      "\n",
      " Error Data:\n",
      "                  MAE      MAPE         RMSE\n",
      "Test data  718.275157  0.273169  1010.703352\n",
      "                      MAE      MAPE        RMSE\n",
      "Training data  721.733214  0.271148  1074.48514\n",
      "CPU times: user 1min 43s, sys: 21.6 s, total: 2min 5s\n",
      "Wall time: 15.9 s\n"
     ]
    }
   ],
   "source": [
    "%%time\n",
    "y_pred_lr, y_test_lr = delivery_lr(infeature, y)"
   ]
  },
  {
   "cell_type": "markdown",
   "id": "3a2a02fe",
   "metadata": {},
   "source": [
    "Using the permutation importance function, we can objectively gather how important each feature in our model is. There are two features that are off negative importance, but with only a 0.000 weight. Hence, we can still keep those two features, i.e., `store_id` and `holiday` within our model. In the next step, we use a regulated linear regression model to see if it can improve the results."
   ]
  },
  {
   "cell_type": "markdown",
   "id": "a4c36042",
   "metadata": {},
   "source": [
    "### Lasso Regression Model <a name=\"lasso\"></a>\n",
    "We then delve into a more stable model by regulating our parameters to see if it could make our model more accurate."
   ]
  },
  {
   "cell_type": "code",
   "execution_count": 44,
   "id": "e5ecb123",
   "metadata": {},
   "outputs": [],
   "source": [
    "def delivery_lasso(X, y):\n",
    "    #Defining the scoring metrics\n",
    "    scoring = ['r2', 'neg_mean_absolute_error', 'neg_mean_squared_error']\n",
    "\n",
    "    #Data partitioning into training and testing sets\n",
    "    X_train, X_test, y_train, y_test = train_test_split(X, y, test_size=0.40,random_state=0)  \n",
    "    #fit Lasso model\n",
    "    model = Lasso()\n",
    "    cv = RepeatedKFold(n_splits=5, n_repeats=3, random_state=0)\n",
    "    # define grid\n",
    "    grid = dict()\n",
    "    grid['alpha'] = np.arange(0, 1, 0.1)\n",
    "    # define search\n",
    "    search = GridSearchCV(model, grid, scoring=scoring, cv=cv, return_train_score=True, \\\n",
    "                          n_jobs=-1, refit='neg_mean_absolute_error')\n",
    "    # perform the search\n",
    "    results = search.fit(X, y)\n",
    "    # summarize\n",
    "    print('neg-MAPE: %.3f' % results.best_score_)\n",
    "    print('Config: %s' % results.best_params_)\n",
    "    \n",
    "    model_best = Lasso(alpha=results.best_params_[\"alpha\"]).fit(X_train, y_train)\n",
    "    cv_scores = cross_validate(model_best, X, y, scoring=scoring,\n",
    "                         cv=cv, return_train_score=True)\n",
    "    y_pred = model_best.predict(X_test)\n",
    "\n",
    "    print_sklearn(model_best, X_train, y_train, X_test, y_test, y_pred, cv_scores)\n",
    "    \n",
    "    ## predict train set  (in-sample)\n",
    "    in_forecast = model_best.predict(X_train)\n",
    "    print(run_error_result(y_test, y_pred,'Test data'))\n",
    "    print(run_error_result(y_train, in_forecast,'Training data'))\n",
    "    return y_pred, y_test"
   ]
  },
  {
   "cell_type": "code",
   "execution_count": 45,
   "id": "651e7ce6",
   "metadata": {},
   "outputs": [
    {
     "name": "stdout",
     "output_type": "stream",
     "text": [
      "neg-MAPE: -719.606\n",
      "Config: {'alpha': 0.9}\n",
      "ML Library: \n",
      "\n",
      " Training -------------------\n",
      "\n",
      " R2 value(training): 0.183\n",
      "\n",
      " Cross validation scores:\n",
      " R2 (training) values:\n",
      "[0.18797447 0.18549571 0.18537845 0.19678461 0.19106295 0.19153073\n",
      " 0.19118323 0.1862687  0.18775554 0.18955686 0.18654496 0.18847107\n",
      " 0.18785582 0.19288004 0.19056123]\n",
      " neg-mean-absolute-error (training) values:\n",
      "[-720.2667222  -720.07429568 -722.13909787 -716.63907882 -718.58925298\n",
      " -718.8140043  -719.09096902 -720.32980325 -718.81398498 -720.68123325\n",
      " -719.07494199 -719.22996772 -719.25967648 -719.34268239 -720.8078729 ]\n",
      "------------------------------------\n",
      "\n",
      "\n",
      " Testing -------------------\n",
      "\n",
      " R2 value(testing): 0.200\n",
      "\n",
      " Cross validation scores:\n",
      " R2 (testing) values:\n",
      "[0.19440952 0.20570678 0.20578984 0.16438027 0.18190801 0.18054614\n",
      " 0.18122263 0.20206758 0.19502717 0.18787124 0.20065176 0.19223828\n",
      " 0.19468444 0.17578525 0.18388966]\n",
      " neg-mean-absolute-error (testing) values:\n",
      "[-718.3181204  -717.58136815 -711.58134945 -727.86306461 -722.75551807\n",
      " -722.51144243 -722.3466348  -716.1523199  -722.10499373 -714.87073678\n",
      " -721.51662035 -720.21845632 -720.50408333 -719.80003552 -715.96221655]\n",
      " Mean squared error: 1021499.64\n",
      " Root Mean squared error: 1010.69\n",
      " Mean absolute error 718.26\n",
      " Mean absolute percentage error 0.27\n",
      "------------------------------------\n",
      "\n",
      "                 MAE      MAPE         RMSE\n",
      "Test data  718.25863  0.273167  1010.692652\n",
      "                      MAE      MAPE         RMSE\n",
      "Training data  721.211127  0.271953  1073.223539\n",
      "CPU times: user 42.3 s, sys: 7.61 s, total: 50 s\n",
      "Wall time: 45.9 s\n"
     ]
    }
   ],
   "source": [
    "%%time\n",
    "y_pred_lasso, y_test_lasso = delivery_lasso(infeature, y)"
   ]
  },
  {
   "cell_type": "markdown",
   "id": "d34c1000",
   "metadata": {},
   "source": [
    "### Random Forest Model<a name=\"randfor\"></a>\n",
    "\n",
    "Random Forest, as a decision tree method, unlike the linear regression models that we used in the sections above, **returns the mean or average prediction of the individual trees**. As a completely different method, we could see if using a decision-tree type of method can increase our accuracy in predicting the total delivery time.\n",
    "\n",
    "#### Step 1: Hyperparameter Tuning for Random Forest<a name=\"hyper_randfor\"></a>"
   ]
  },
  {
   "cell_type": "code",
   "execution_count": 46,
   "id": "1b7a256d",
   "metadata": {},
   "outputs": [],
   "source": [
    "def delivery_rf_hyperparam(X, y):\n",
    "    #Defining the scoring metrics\n",
    "    scoring = ['r2', 'neg_mean_absolute_error', 'neg_mean_squared_error']\n",
    "\n",
    "    #Data partitioning into training and testing sets\n",
    "    X_train, X_test, y_train, y_test = train_test_split(X, y, test_size=0.40) \n",
    "    \n",
    "    #fit Random Forest model\n",
    "    rf = RandomForestRegressor() \n",
    "    cv = RepeatedKFold(n_splits=10, n_repeats=1)\n",
    "    \n",
    "    # ---------- This part was for hyperparameter tuning -------------------\n",
    "    \n",
    "    #define grid\n",
    "    # Number of trees in random forest\n",
    "    n_estimators = [int(x) for x in np.linspace(start = 120, stop = 150, num = 10)]\n",
    "    # Number of features to consider at every split\n",
    "    max_features = [6, 8, 10]\n",
    "    # Maximum number of levels in tree\n",
    "    max_depth = [int(x) for x in np.linspace(5, 125, num = 20)]\n",
    "    max_depth.append(None)\n",
    "    # Minimum number of samples required to split a node\n",
    "    min_samples_split = [7, 9, 11]\n",
    "    # Minimum number of samples required at each leaf node\n",
    "    min_samples_leaf = [1, 2, 4]\n",
    "    # Method of selecting samples for training each tree\n",
    "    \n",
    "    #Create the random grid\n",
    "    random_grid = {'n_estimators': n_estimators,\n",
    "               'max_features': max_features,\n",
    "               'max_depth': max_depth,\n",
    "               'min_samples_split': min_samples_split,\n",
    "               'min_samples_leaf': min_samples_leaf,\n",
    "                  }\n",
    "    #perform the search\n",
    "    rf_random = RandomizedSearchCV(estimator = rf, \\\n",
    "                               param_distributions = random_grid, n_iter = 10, \\\n",
    "                               cv = cv, verbose=1, random_state=42, n_jobs = -1, \\\n",
    "                                   return_train_score=True, scoring=scoring,\n",
    "                                  refit='neg_mean_absolute_error')\n",
    "    results = rf_random.fit(X_train, y_train)\n",
    "    # summarize\n",
    "    print('neg-MAE: %.3f' % results.best_score_)\n",
    "    print('Config: %s' % results.best_params_)\n",
    "\n",
    "    # ---------- hyperparameter tuning end here -------------------\n",
    "    \n",
    "    model_best = results.best_estimator_.fit(X_train, y_train)\n",
    "    cv_scores = cross_validate(model_best, X, y, scoring=scoring,\n",
    "                         cv=cv, return_train_score=True)\n",
    "    y_pred = model_best.predict(X_test)\n",
    "\n",
    "    print_sklearn(model_best, X_train, y_train, X_test, y_test, y_pred, cv_scores)\n",
    "    \n",
    "    ## predict train set  (in-sample)\n",
    "    in_forecast = model_best.predict(X_train)\n",
    "    print(run_error_result(y_test, y_pred,'Test data'))\n",
    "    print(run_error_result(y_train, in_forecast,'Training data'))\n",
    "    return 0"
   ]
  },
  {
   "cell_type": "code",
   "execution_count": 47,
   "id": "27b52559",
   "metadata": {
    "collapsed": true
   },
   "outputs": [
    {
     "name": "stdout",
     "output_type": "stream",
     "text": [
      "Fitting 10 folds for each of 10 candidates, totalling 100 fits\n",
      "neg-MAE: -674.809\n",
      "Config: {'n_estimators': 123, 'min_samples_split': 7, 'min_samples_leaf': 4, 'max_features': 6, 'max_depth': 125}\n",
      "ML Library: \n",
      "\n",
      " Training -------------------\n",
      "\n",
      " R2 value(training): 0.636\n",
      "\n",
      " Cross validation scores:\n",
      " R2 (training) values:\n",
      "[0.63953204 0.64306648 0.63818337 0.63881675 0.63857227 0.64428483\n",
      " 0.63724968 0.63640295 0.63764665 0.63894159]\n",
      " neg-mean-absolute-error (training) values:\n",
      "[-434.53050104 -434.84199487 -434.35980615 -434.90153659 -434.53146521\n",
      " -434.57445411 -435.21986549 -435.56215218 -434.99175031 -435.12002777]\n",
      "------------------------------------\n",
      "\n",
      "\n",
      " Testing -------------------\n",
      "\n",
      " R2 value(testing): 0.273\n",
      "\n",
      " Cross validation scores:\n",
      " R2 (testing) values:\n",
      "[0.28734225 0.25530616 0.29194325 0.28306314 0.28500596 0.24531767\n",
      " 0.29286723 0.3023489  0.28879545 0.28713342]\n",
      " neg-mean-absolute-error (testing) values:\n",
      "[-667.97654761 -663.87981931 -672.89787755 -664.88756112 -671.35921793\n",
      " -669.48655171 -664.18338966 -660.47769004 -661.12415118 -661.03488685]\n",
      " Mean squared error: 963578.35\n",
      " Root Mean squared error: 981.62\n",
      " Mean absolute error 669.25\n",
      " Mean absolute percentage error 0.25\n",
      "------------------------------------\n",
      "\n",
      "                  MAE      MAPE        RMSE\n",
      "Test data  669.249483  0.252979  981.620267\n",
      "                      MAE      MAPE        RMSE\n",
      "Training data  438.470044  0.162862  708.087164\n",
      "CPU times: user 10min 2s, sys: 2.16 s, total: 10min 4s\n",
      "Wall time: 25min 58s\n"
     ]
    },
    {
     "data": {
      "text/plain": [
       "0"
      ]
     },
     "execution_count": 47,
     "metadata": {},
     "output_type": "execute_result"
    }
   ],
   "source": [
    "%%time\n",
    "delivery_rf_hyperparam(infeature, y)"
   ]
  },
  {
   "cell_type": "markdown",
   "id": "060fc72b",
   "metadata": {},
   "source": [
    "#### Step 2: Evaluation using the Optimal Random Forest Model<a name=\"eval_randfor\"></a>"
   ]
  },
  {
   "cell_type": "code",
   "execution_count": 48,
   "id": "ba6dc435",
   "metadata": {},
   "outputs": [],
   "source": [
    "def delivery_rf_evaluate(X, y):\n",
    "    #Defining the scoring metrics\n",
    "    scoring = ['r2', 'neg_mean_absolute_error', 'neg_mean_squared_error']\n",
    "\n",
    "    #Data partitioning into training and testing sets\n",
    "    X_train, X_test, y_train, y_test = train_test_split(X, y, test_size=0.40,random_state=0) \n",
    "    \n",
    "    #fit Random Forest model\n",
    "    cv = RepeatedKFold(n_splits=10, n_repeats=1, random_state=0)\n",
    "    rf = RandomForestRegressor(n_estimators =123,max_features=6, max_depth=123 , \\\n",
    "                               min_samples_split=7,min_samples_leaf=4)\n",
    "    \n",
    "    results = rf.fit(X_train, y_train)\n",
    "    y_pred = results.predict(X_test)\n",
    "    features = X_train.columns\n",
    "    importances = rf.feature_importances_\n",
    "    indices = np.argsort(importances)\n",
    "    \n",
    "    fig, ax = plt.subplots(figsize=(12,16))\n",
    "    ax.set_title('Feature Importances for Random Forest')\n",
    "    ax.barh(range(len(indices)), importances[indices], color='g', align='center')\n",
    "    plt.yticks(range(len(indices)), [features[i] for i in indices], rotation=45)\n",
    "    ax.set_xlabel('Relative Importance')\n",
    "    plt.tight_layout()\n",
    "\n",
    "    cv_scores = cross_validate(rf, X, y, scoring=scoring,\n",
    "                         cv=cv, return_train_score=True)\n",
    "\n",
    "    print_sklearn(rf, X_train, y_train, X_test, y_test, y_pred, cv_scores)\n",
    "    \n",
    "    ## predict train set  (in-sample)\n",
    "    in_forecast = rf.predict(X_train)\n",
    "    print(run_error_result(y_test, y_pred,'Test data'))\n",
    "    print(run_error_result(y_train, in_forecast,'Training data'))\n",
    "    return y_pred, y_test"
   ]
  },
  {
   "cell_type": "code",
   "execution_count": 49,
   "id": "07f68c99",
   "metadata": {},
   "outputs": [
    {
     "name": "stdout",
     "output_type": "stream",
     "text": [
      "ML Library: \n",
      "\n",
      " Training -------------------\n",
      "\n",
      " R2 value(training): 0.624\n",
      "\n",
      " Cross validation scores:\n",
      " R2 (training) values:\n",
      "[0.63903064 0.63727583 0.63723875 0.63509854 0.6352848  0.63850415\n",
      " 0.64091405 0.65056039 0.64210703 0.63841008]\n",
      " neg-mean-absolute-error (training) values:\n",
      "[-434.98577383 -435.22496273 -435.16585973 -435.51468535 -436.45220273\n",
      " -435.13511892 -434.05824744 -433.53555273 -434.16654626 -434.85504156]\n",
      "------------------------------------\n",
      "\n",
      "\n",
      " Testing -------------------\n",
      "\n",
      " R2 value(testing): 0.288\n",
      "\n",
      " Cross validation scores:\n",
      " R2 (testing) values:\n",
      "[0.28326091 0.29919491 0.30348342 0.30826589 0.31513708 0.28727374\n",
      " 0.26379111 0.2227565  0.2587122  0.29180864]\n",
      " neg-mean-absolute-error (testing) values:\n",
      "[-660.97151477 -664.25442313 -665.73681674 -663.27266802 -650.81347467\n",
      " -666.16027744 -672.22688841 -677.99722786 -672.29247545 -665.58786712]\n",
      " Mean squared error: 909435.53\n",
      " Root Mean squared error: 953.64\n",
      " Mean absolute error 669.80\n",
      " Mean absolute percentage error 0.25\n",
      "------------------------------------\n",
      "\n",
      "                  MAE      MAPE        RMSE\n",
      "Test data  669.796073  0.253369  953.643293\n",
      "                      MAE      MAPE        RMSE\n",
      "Training data  439.396866  0.163166  728.188886\n",
      "CPU times: user 9min 28s, sys: 772 ms, total: 9min 29s\n",
      "Wall time: 18min 35s\n"
     ]
    },
    {
     "data": {
      "image/png": "[encoded data removed]",
      "text/plain": [
       "<Figure size 864x1152 with 1 Axes>"
      ]
     },
     "metadata": {
      "needs_background": "light"
     },
     "output_type": "display_data"
    }
   ],
   "source": [
    "%%time\n",
    "y_pred_rf, y_test_rf = delivery_rf_evaluate(infeature, y) "
   ]
  },
  {
   "cell_type": "markdown",
   "id": "42849d30",
   "metadata": {},
   "source": [
    "### XGBoost Algorithm<a name=\"xgboost\"></a>\n",
    "\n",
    "XGBoost, as a gradient boosting library, in most cases can outperform the random forest model. Nevertheless, the downside of the method is that it can be **really difficult to find a optimal combination of the hyperparameters that we want to work with**. Here, we want to \"naively\" use the algorithm to see by how much we could improve the prediction performance, when comparing to the random forest model.\n",
    "\n",
    "#### Step 1: Hyperparameter Tuning for XGBoost<a name=\"hyper_xgboost\"></a>\n",
    "\n",
    "Due to the **computing resources on a local desktop**, we have to limit ourselves to only a very rough model of the hyperparameter tuning process. "
   ]
  },
  {
   "cell_type": "code",
   "execution_count": 54,
   "id": "8ad38b82",
   "metadata": {},
   "outputs": [],
   "source": [
    "def delivery_xgb_hyperparam_depth_nest(X, y):\n",
    "    #Defining the scoring metrics\n",
    "    scoring = ['r2', 'neg_mean_absolute_error', 'neg_mean_squared_error']\n",
    "\n",
    "    #Data partitioning into training and testing sets\n",
    "    X_train, X_test, y_train, y_test = train_test_split(X, y, test_size=0.40) \n",
    "    \n",
    "    #fit Random Forest model\n",
    "    xg = xgb.XGBRegressor(objective='reg:squarederror') \n",
    "    cv = RepeatedKFold(n_splits=5, n_repeats=1)\n",
    "    \n",
    "    # ---------- This part was for hyperparameter tuning -------------------\n",
    "    \n",
    "    #define grid\n",
    "    # Number of trees in random forest\n",
    "    n_estimators = [int(x) for x in np.linspace(start = 120, stop = 150, num = 10)]\n",
    "    # Maximum number of levels in tree\n",
    "    max_depth = [int(x) for x in np.linspace(10, 110, num = 5)]\n",
    "    max_depth.append(None)\n",
    "    # Minimum number of samples to create a new node in the tree: small number tend to overfit\n",
    "    min_child_weight = [int(x) for x in np.arange(5, 10, 1)]\n",
    "    # fraction of features (the columns) to use\n",
    "    colsample_bytree = [i/10. for i in range(5,11)]\n",
    "\n",
    "    \n",
    "    #Create the random grid\n",
    "    random_grid = {'n_estimators': n_estimators,\n",
    "                    'max_depth': max_depth,\n",
    "                    'min_child_weight': min_child_weight,\n",
    "                    'colsample_bytree': colsample_bytree\n",
    "                   }\n",
    "    #perform the search\n",
    "    xg_random = RandomizedSearchCV(estimator = xg, \\\n",
    "                               param_distributions = random_grid, n_iter = 5, \\\n",
    "                               cv = cv, verbose=1, random_state=42, n_jobs = -1, \\\n",
    "                                   return_train_score=True, scoring=scoring,\n",
    "                                  refit='neg_mean_absolute_error')\n",
    "\n",
    "    results = xg_random.fit(X_train, y_train)\n",
    "    # summarize\n",
    "    print('neg-MAE: %.3f' % results.best_score_)\n",
    "    print('Config: %s' % results.best_params_)\n",
    "\n",
    "    # ---------- hyperparameter tuning end here -------------------\n",
    "    \n",
    "    model_best = results.best_estimator_.fit(X_train, y_train)\n",
    "    cv_scores = cross_validate(model_best, X, y, scoring=scoring,\n",
    "                         cv=cv, return_train_score=True)\n",
    "    y_pred = model_best.predict(X_test)\n",
    "\n",
    "    print_sklearn(model_best, X_train, y_train, X_test, y_test, y_pred, cv_scores)\n",
    "    \n",
    "    ## predict train set  (in-sample)\n",
    "    in_forecast = model_best.predict(X_train)\n",
    "    print(run_error_result(y_test, y_pred,'Test data'))\n",
    "    print(run_error_result(y_train, in_forecast,'Training data'))\n",
    "    return 0"
   ]
  },
  {
   "cell_type": "code",
   "execution_count": 55,
   "id": "86551921",
   "metadata": {
    "collapsed": true
   },
   "outputs": [
    {
     "name": "stdout",
     "output_type": "stream",
     "text": [
      "Fitting 5 folds for each of 5 candidates, totalling 25 fits\n"
     ]
    },
    {
     "name": "stderr",
     "output_type": "stream",
     "text": [
      "/opt/anaconda3/lib/python3.8/site-packages/joblib/externals/loky/process_executor.py:688: UserWarning: A worker stopped while some jobs were given to the executor. This can be caused by a too short worker timeout or by a memory leak.\n",
      "  warnings.warn(\n"
     ]
    },
    {
     "name": "stdout",
     "output_type": "stream",
     "text": [
      "neg-MAE: -652.990\n",
      "Config: {'n_estimators': 150, 'min_child_weight': 5, 'max_depth': None, 'colsample_bytree': 0.9}\n",
      "ML Library: \n",
      "\n",
      " Training -------------------\n",
      "\n",
      " R2 value(training): 0.449\n",
      "\n",
      " Cross validation scores:\n",
      " R2 (training) values:\n",
      "[0.43490422 0.42832397 0.4317355  0.4222788  0.42787197]\n",
      " neg-mean-absolute-error (training) values:\n",
      "[-597.23174811 -597.0208082  -598.99338284 -599.84225586 -598.46231884]\n",
      "------------------------------------\n",
      "\n",
      "\n",
      " Testing -------------------\n",
      "\n",
      " R2 value(testing): 0.310\n",
      "\n",
      " Cross validation scores:\n",
      " R2 (testing) values:\n",
      "[0.29817016 0.31868724 0.31524875 0.3196924  0.3014976 ]\n",
      " neg-mean-absolute-error (testing) values:\n",
      "[-646.72909475 -638.87991568 -642.45505643 -640.44978775 -642.53224327]\n",
      " Mean squared error: 905262.81\n",
      " Root Mean squared error: 951.45\n",
      " Mean absolute error 646.66\n",
      " Mean absolute percentage error 0.24\n",
      "------------------------------------\n",
      "\n",
      "                  MAE      MAPE        RMSE\n",
      "Test data  646.664425  0.241007  951.452998\n",
      "                      MAE      MAPE        RMSE\n",
      "Training data  592.172227  0.220858  873.954802\n"
     ]
    },
    {
     "data": {
      "text/plain": [
       "0"
      ]
     },
     "execution_count": 55,
     "metadata": {},
     "output_type": "execute_result"
    }
   ],
   "source": [
    "delivery_xgb_hyperparam_depth_nest(infeature, y)"
   ]
  },
  {
   "cell_type": "markdown",
   "id": "caad1986",
   "metadata": {},
   "source": [
    "#### Step 2: Evaluation using the Optimal XGBoost Model<a name=\"eval_xgboost\"></a>"
   ]
  },
  {
   "cell_type": "code",
   "execution_count": 56,
   "id": "367ee852",
   "metadata": {},
   "outputs": [],
   "source": [
    "def delivery_xg_evaluate(X, y):\n",
    "    #Defining the scoring metrics\n",
    "    scoring = ['r2', 'neg_mean_absolute_error', 'neg_mean_squared_error']\n",
    "\n",
    "    #Data partitioning into training and testing sets\n",
    "    X_train, X_test, y_train, y_test = train_test_split(X, y, test_size=0.40,random_state=0) \n",
    "    \n",
    "    #fit XGBoost model\n",
    "    cv = RepeatedKFold(n_splits=10, n_repeats=1, random_state=0)\n",
    "    xg = xgb.XGBRegressor(objective='reg:squarederror',\n",
    "                          n_estimators= 150, max_depth= None,\n",
    "                          min_child_weight= 5, colsample_bytree= 0.9\n",
    "                          ) \n",
    "    \n",
    "    results = xg.fit(X_train, y_train)\n",
    "    y_pred = results.predict(X_test)\n",
    "    \n",
    "    cv_scores = cross_validate(xg, X, y, scoring=scoring,\n",
    "                         cv=cv, return_train_score=True)\n",
    "\n",
    "    print_sklearn(xg, X_train, y_train, X_test, y_test, y_pred, cv_scores)\n",
    "    \n",
    "    ## predict train set  (in-sample)\n",
    "    in_forecast = xg.predict(X_train)\n",
    "    print(run_error_result(y_test, y_pred,'Test data'))\n",
    "    print(run_error_result(y_train, in_forecast,'Training data'))\n",
    "    return y_pred, y_test"
   ]
  },
  {
   "cell_type": "code",
   "execution_count": 62,
   "id": "01a86ba6",
   "metadata": {},
   "outputs": [
    {
     "name": "stdout",
     "output_type": "stream",
     "text": [
      "ML Library: \n",
      "\n",
      " Training -------------------\n",
      "\n",
      " R2 value(training): 0.444\n",
      "\n",
      " Cross validation scores:\n",
      " R2 (training) values:\n",
      "[0.41998686 0.42401406 0.41661958 0.42026854 0.41672053 0.42271214\n",
      " 0.42079321 0.42878399 0.42210584 0.41662231]\n",
      " neg-mean-absolute-error (training) values:\n",
      "[-602.06021319 -600.99657937 -601.57467004 -600.76027607 -602.15838891\n",
      " -600.41892381 -599.41027819 -597.66235327 -600.31449935 -601.47296107]\n",
      "------------------------------------\n",
      "\n",
      "\n",
      " Testing -------------------\n",
      "\n",
      " R2 value(testing): 0.319\n",
      "\n",
      " Cross validation scores:\n",
      " R2 (testing) values:\n",
      "[0.31461798 0.33636825 0.33218796 0.34771881 0.35489559 0.32556006\n",
      " 0.29476146 0.24915394 0.29892416 0.32525507]\n",
      " neg-mean-absolute-error (testing) values:\n",
      "[-638.15524135 -637.65604352 -641.66544245 -636.30278936 -625.63755511\n",
      " -638.59962577 -647.15842585 -652.91455788 -646.57386187 -641.1466166 ]\n",
      " Mean squared error: 869673.01\n",
      " Root Mean squared error: 932.56\n",
      " Mean absolute error 645.22\n",
      " Mean absolute percentage error 0.24\n",
      "------------------------------------\n",
      "\n",
      "               MAE      MAPE        RMSE\n",
      "Test data  645.215  0.240982  932.562604\n",
      "                      MAE      MAPE        RMSE\n",
      "Training data  594.562085  0.221371  884.972485\n",
      "ML Library: \n",
      "\n",
      " Training -------------------\n",
      "\n",
      " R2 value(training): 0.444\n",
      "\n",
      " Cross validation scores:\n",
      " R2 (training) values:\n",
      "[0.41998686 0.42401406 0.41661958 0.42026854 0.41672053 0.42271214\n",
      " 0.42079321 0.42878399 0.42210584 0.41662231]\n",
      " neg-mean-absolute-error (training) values:\n",
      "[-602.06021319 -600.99657937 -601.57467004 -600.76027607 -602.15838891\n",
      " -600.41892381 -599.41027819 -597.66235327 -600.31449935 -601.47296107]\n",
      "------------------------------------\n",
      "\n",
      "\n",
      " Testing -------------------\n",
      "\n",
      " R2 value(testing): 0.319\n",
      "\n",
      " Cross validation scores:\n",
      " R2 (testing) values:\n",
      "[0.31461798 0.33636825 0.33218796 0.34771881 0.35489559 0.32556006\n",
      " 0.29476146 0.24915394 0.29892416 0.32525507]\n",
      " neg-mean-absolute-error (testing) values:\n",
      "[-638.15524135 -637.65604352 -641.66544245 -636.30278936 -625.63755511\n",
      " -638.59962577 -647.15842585 -652.91455788 -646.57386187 -641.1466166 ]\n",
      " Mean squared error: 869673.01\n",
      " Root Mean squared error: 932.56\n",
      " Mean absolute error 645.22\n",
      " Mean absolute percentage error 0.24\n",
      "------------------------------------\n",
      "\n",
      "               MAE      MAPE        RMSE\n",
      "Test data  645.215  0.240982  932.562604\n",
      "                      MAE      MAPE        RMSE\n",
      "Training data  594.562085  0.221371  884.972485\n",
      "ML Library: \n",
      "\n",
      " Training -------------------\n",
      "\n",
      " R2 value(training): 0.444\n",
      "\n",
      " Cross validation scores:\n",
      " R2 (training) values:\n",
      "[0.41998686 0.42401406 0.41661958 0.42026854 0.41672053 0.42271214\n",
      " 0.42079321 0.42878399 0.42210584 0.41662231]\n",
      " neg-mean-absolute-error (training) values:\n",
      "[-602.06021319 -600.99657937 -601.57467004 -600.76027607 -602.15838891\n",
      " -600.41892381 -599.41027819 -597.66235327 -600.31449935 -601.47296107]\n",
      "------------------------------------\n",
      "\n",
      "\n",
      " Testing -------------------\n",
      "\n",
      " R2 value(testing): 0.319\n",
      "\n",
      " Cross validation scores:\n",
      " R2 (testing) values:\n",
      "[0.31461798 0.33636825 0.33218796 0.34771881 0.35489559 0.32556006\n",
      " 0.29476146 0.24915394 0.29892416 0.32525507]\n",
      " neg-mean-absolute-error (testing) values:\n",
      "[-638.15524135 -637.65604352 -641.66544245 -636.30278936 -625.63755511\n",
      " -638.59962577 -647.15842585 -652.91455788 -646.57386187 -641.1466166 ]\n",
      " Mean squared error: 869673.01\n",
      " Root Mean squared error: 932.56\n",
      " Mean absolute error 645.22\n",
      " Mean absolute percentage error 0.24\n",
      "------------------------------------\n",
      "\n",
      "               MAE      MAPE        RMSE\n",
      "Test data  645.215  0.240982  932.562604\n",
      "                      MAE      MAPE        RMSE\n",
      "Training data  594.562085  0.221371  884.972485\n",
      "ML Library: \n",
      "\n",
      " Training -------------------\n",
      "\n",
      " R2 value(training): 0.444\n",
      "\n",
      " Cross validation scores:\n",
      " R2 (training) values:\n",
      "[0.41998686 0.42401406 0.41661958 0.42026854 0.41672053 0.42271214\n",
      " 0.42079321 0.42878399 0.42210584 0.41662231]\n",
      " neg-mean-absolute-error (training) values:\n",
      "[-602.06021319 -600.99657937 -601.57467004 -600.76027607 -602.15838891\n",
      " -600.41892381 -599.41027819 -597.66235327 -600.31449935 -601.47296107]\n",
      "------------------------------------\n",
      "\n",
      "\n",
      " Testing -------------------\n",
      "\n",
      " R2 value(testing): 0.319\n",
      "\n",
      " Cross validation scores:\n",
      " R2 (testing) values:\n",
      "[0.31461798 0.33636825 0.33218796 0.34771881 0.35489559 0.32556006\n",
      " 0.29476146 0.24915394 0.29892416 0.32525507]\n",
      " neg-mean-absolute-error (testing) values:\n",
      "[-638.15524135 -637.65604352 -641.66544245 -636.30278936 -625.63755511\n",
      " -638.59962577 -647.15842585 -652.91455788 -646.57386187 -641.1466166 ]\n",
      " Mean squared error: 869673.01\n",
      " Root Mean squared error: 932.56\n",
      " Mean absolute error 645.22\n",
      " Mean absolute percentage error 0.24\n",
      "------------------------------------\n",
      "\n",
      "               MAE      MAPE        RMSE\n",
      "Test data  645.215  0.240982  932.562604\n",
      "                      MAE      MAPE        RMSE\n",
      "Training data  594.562085  0.221371  884.972485\n",
      "ML Library: \n",
      "\n",
      " Training -------------------\n",
      "\n",
      " R2 value(training): 0.444\n",
      "\n",
      " Cross validation scores:\n",
      " R2 (training) values:\n",
      "[0.41998686 0.42401406 0.41661958 0.42026854 0.41672053 0.42271214\n",
      " 0.42079321 0.42878399 0.42210584 0.41662231]\n",
      " neg-mean-absolute-error (training) values:\n",
      "[-602.06021319 -600.99657937 -601.57467004 -600.76027607 -602.15838891\n",
      " -600.41892381 -599.41027819 -597.66235327 -600.31449935 -601.47296107]\n",
      "------------------------------------\n",
      "\n",
      "\n",
      " Testing -------------------\n",
      "\n",
      " R2 value(testing): 0.319\n",
      "\n",
      " Cross validation scores:\n",
      " R2 (testing) values:\n",
      "[0.31461798 0.33636825 0.33218796 0.34771881 0.35489559 0.32556006\n",
      " 0.29476146 0.24915394 0.29892416 0.32525507]\n",
      " neg-mean-absolute-error (testing) values:\n",
      "[-638.15524135 -637.65604352 -641.66544245 -636.30278936 -625.63755511\n",
      " -638.59962577 -647.15842585 -652.91455788 -646.57386187 -641.1466166 ]\n",
      " Mean squared error: 869673.01\n",
      " Root Mean squared error: 932.56\n",
      " Mean absolute error 645.22\n",
      " Mean absolute percentage error 0.24\n",
      "------------------------------------\n",
      "\n",
      "               MAE      MAPE        RMSE\n",
      "Test data  645.215  0.240982  932.562604\n",
      "                      MAE      MAPE        RMSE\n",
      "Training data  594.562085  0.221371  884.972485\n",
      "ML Library: \n",
      "\n",
      " Training -------------------\n",
      "\n",
      " R2 value(training): 0.444\n",
      "\n",
      " Cross validation scores:\n",
      " R2 (training) values:\n",
      "[0.41998686 0.42401406 0.41661958 0.42026854 0.41672053 0.42271214\n",
      " 0.42079321 0.42878399 0.42210584 0.41662231]\n",
      " neg-mean-absolute-error (training) values:\n",
      "[-602.06021319 -600.99657937 -601.57467004 -600.76027607 -602.15838891\n",
      " -600.41892381 -599.41027819 -597.66235327 -600.31449935 -601.47296107]\n",
      "------------------------------------\n",
      "\n",
      "\n",
      " Testing -------------------\n",
      "\n",
      " R2 value(testing): 0.319\n",
      "\n",
      " Cross validation scores:\n",
      " R2 (testing) values:\n",
      "[0.31461798 0.33636825 0.33218796 0.34771881 0.35489559 0.32556006\n",
      " 0.29476146 0.24915394 0.29892416 0.32525507]\n",
      " neg-mean-absolute-error (testing) values:\n",
      "[-638.15524135 -637.65604352 -641.66544245 -636.30278936 -625.63755511\n",
      " -638.59962577 -647.15842585 -652.91455788 -646.57386187 -641.1466166 ]\n",
      " Mean squared error: 869673.01\n",
      " Root Mean squared error: 932.56\n",
      " Mean absolute error 645.22\n",
      " Mean absolute percentage error 0.24\n",
      "------------------------------------\n",
      "\n",
      "               MAE      MAPE        RMSE\n",
      "Test data  645.215  0.240982  932.562604\n",
      "                      MAE      MAPE        RMSE\n",
      "Training data  594.562085  0.221371  884.972485\n",
      "ML Library: \n",
      "\n",
      " Training -------------------\n",
      "\n",
      " R2 value(training): 0.444\n",
      "\n",
      " Cross validation scores:\n",
      " R2 (training) values:\n",
      "[0.41998686 0.42401406 0.41661958 0.42026854 0.41672053 0.42271214\n",
      " 0.42079321 0.42878399 0.42210584 0.41662231]\n",
      " neg-mean-absolute-error (training) values:\n",
      "[-602.06021319 -600.99657937 -601.57467004 -600.76027607 -602.15838891\n",
      " -600.41892381 -599.41027819 -597.66235327 -600.31449935 -601.47296107]\n",
      "------------------------------------\n",
      "\n",
      "\n",
      " Testing -------------------\n",
      "\n",
      " R2 value(testing): 0.319\n",
      "\n",
      " Cross validation scores:\n",
      " R2 (testing) values:\n",
      "[0.31461798 0.33636825 0.33218796 0.34771881 0.35489559 0.32556006\n",
      " 0.29476146 0.24915394 0.29892416 0.32525507]\n",
      " neg-mean-absolute-error (testing) values:\n",
      "[-638.15524135 -637.65604352 -641.66544245 -636.30278936 -625.63755511\n",
      " -638.59962577 -647.15842585 -652.91455788 -646.57386187 -641.1466166 ]\n",
      " Mean squared error: 869673.01\n",
      " Root Mean squared error: 932.56\n",
      " Mean absolute error 645.22\n",
      " Mean absolute percentage error 0.24\n",
      "------------------------------------\n",
      "\n"
     ]
    },
    {
     "name": "stdout",
     "output_type": "stream",
     "text": [
      "               MAE      MAPE        RMSE\n",
      "Test data  645.215  0.240982  932.562604\n",
      "                      MAE      MAPE        RMSE\n",
      "Training data  594.562085  0.221371  884.972485\n",
      "ML Library: \n",
      "\n",
      " Training -------------------\n",
      "\n",
      " R2 value(training): 0.444\n",
      "\n",
      " Cross validation scores:\n",
      " R2 (training) values:\n",
      "[0.41998686 0.42401406 0.41661958 0.42026854 0.41672053 0.42271214\n",
      " 0.42079321 0.42878399 0.42210584 0.41662231]\n",
      " neg-mean-absolute-error (training) values:\n",
      "[-602.06021319 -600.99657937 -601.57467004 -600.76027607 -602.15838891\n",
      " -600.41892381 -599.41027819 -597.66235327 -600.31449935 -601.47296107]\n",
      "------------------------------------\n",
      "\n",
      "\n",
      " Testing -------------------\n",
      "\n",
      " R2 value(testing): 0.319\n",
      "\n",
      " Cross validation scores:\n",
      " R2 (testing) values:\n",
      "[0.31461798 0.33636825 0.33218796 0.34771881 0.35489559 0.32556006\n",
      " 0.29476146 0.24915394 0.29892416 0.32525507]\n",
      " neg-mean-absolute-error (testing) values:\n",
      "[-638.15524135 -637.65604352 -641.66544245 -636.30278936 -625.63755511\n",
      " -638.59962577 -647.15842585 -652.91455788 -646.57386187 -641.1466166 ]\n",
      " Mean squared error: 869673.01\n",
      " Root Mean squared error: 932.56\n",
      " Mean absolute error 645.22\n",
      " Mean absolute percentage error 0.24\n",
      "------------------------------------\n",
      "\n",
      "               MAE      MAPE        RMSE\n",
      "Test data  645.215  0.240982  932.562604\n",
      "                      MAE      MAPE        RMSE\n",
      "Training data  594.562085  0.221371  884.972485\n",
      "1min 9s ± 286 ms per loop (mean ± std. dev. of 7 runs, 1 loop each)\n"
     ]
    }
   ],
   "source": [
    "%%timeit\n",
    "y_pred_xg, y_test_xg = delivery_xg_evaluate(infeature, y)"
   ]
  },
  {
   "cell_type": "markdown",
   "id": "a0de5b67",
   "metadata": {},
   "source": [
    "### Model Comparison<a name=\"model_comp\"></a>\n",
    "\n",
    "As suggested in the problem description, \"*order lateness / underprediction of delivery time is of particular concern as past experiments suggest that underestimating delivery time is roughly twice as costly as overestimating it. Orders that are **very early / late are also much worse than those that are only slightly early / late**.*\" It is understandable that no model can predict delivery time perfectly (up until this point). Hence, when comparing the performance of the different models, focus was drawn onto the percentage of **slightly (within 10 mins difference)** vs. **very (larger than 10 mins difference)** late / early predictions.  \n",
    "\n",
    "Therefore, We want to **find a model that has the largest percentage of slightly early / late predictions and lower the risks of giving predictions that are really off.**"
   ]
  },
  {
   "cell_type": "code",
   "execution_count": 58,
   "id": "4e0b81e1",
   "metadata": {},
   "outputs": [
    {
     "name": "stdout",
     "output_type": "stream",
     "text": [
      "slightly late     30.452670\n",
      "very late         28.154403\n",
      "slightly early    20.925656\n",
      "very early        20.467272\n",
      "Name: lr_prediction_accuracy, dtype: float64\n",
      "<-------------------------------->\n",
      "slightly late     30.448860\n",
      "very late         28.148054\n",
      "slightly early    20.943432\n",
      "very early        20.459653\n",
      "Name: lasso_prediction_accuracy, dtype: float64\n",
      "<-------------------------------->\n",
      "slightly late     33.519142\n",
      "very late         25.533617\n",
      "slightly early    21.909720\n",
      "very early        19.037521\n",
      "Name: random_forest_prediction_accuracy, dtype: float64\n",
      "<-------------------------------->\n",
      "slightly late     34.433369\n",
      "slightly early    23.805473\n",
      "very late         23.221383\n",
      "very early        18.539775\n",
      "Name: xgboost_prediction_accuracy, dtype: float64\n",
      "<-------------------------------->\n"
     ]
    },
    {
     "data": {
      "text/plain": [
       "<AxesSubplot:>"
      ]
     },
     "execution_count": 58,
     "metadata": {},
     "output_type": "execute_result"
    },
    {
     "data": {
      "image/png": "[encoded data removed]",
      "text/plain": [
       "<Figure size 432x288 with 1 Axes>"
      ]
     },
     "metadata": {
      "needs_background": "light"
     },
     "output_type": "display_data"
    }
   ],
   "source": [
    "df_lr = early_or_late(y_pred_lr, y_test_lr, 'lr')\n",
    "df_lasso = early_or_late(y_pred_lasso, y_test_lasso, 'lasso')\n",
    "df_lr_lasso = pd.concat([df_lr, df_lasso], axis=1)\n",
    "df_rf = early_or_late(y_pred_rf, y_test_rf, 'random_forest')\n",
    "df_lr_lasso_rf = pd.concat([df_lr_lasso, df_rf], axis=1)\n",
    "df_xg = early_or_late(y_pred_xg, y_test_xg, 'xgboost')\n",
    "df_all_model = pd.concat([df_lr_lasso_rf, df_xg], axis=1)\n",
    "df_all_model.plot.bar(rot=0)\n",
    "plt.savefig(\"method_comparison.png\")"
   ]
  },
  {
   "cell_type": "markdown",
   "id": "e6cacffb",
   "metadata": {},
   "source": [
    "From the bar plot shown in the cell above, we could see that overall, Lasso regression and regular linear regression models have pretty similar performances, with the higher percentages, at **~50% level** combined, of **very late** and **very early** predictions, comparing to the random forst and xgboost algorithm. The mean-absolute-error (MAE) metric of these two models (printed ealier in the notebook), both give values of **~718 seconds, or ~12 minutes** of difference between the actual and predicted values, which is considered to be a **very** late / early prediction. \n",
    "\n",
    "The Random Forest model reduces the orders greater than 10 minutes late / early by **more than 5% (comparing to the linear regression models)**, with a MAE value of ~670 seconds, or ~11 minutes. This can be considered as a significant improvement as we decrease the amount of \"disastrous\" predictions by 10%.\n",
    "\n",
    "XGBoost has the capability of providing further higher rates of slightly different predictions, giving a only **~40% bad predictions** and **60% predictions that are considered only slightly off**, with a even smaller MAE value of **~645 seconds, or less than 11 minutes, difference** between the actual and the predicted values. \n",
    "\n",
    "Therefore, when predicting the test set values, we decide to go with the XGBoost model that we developed:"
   ]
  },
  {
   "cell_type": "markdown",
   "id": "529aad6c",
   "metadata": {},
   "source": [
    "## Test Set Predictions<a name=\"test_pred\"></a>"
   ]
  },
  {
   "cell_type": "code",
   "execution_count": 59,
   "id": "8be98e4c",
   "metadata": {},
   "outputs": [],
   "source": [
    "def test_set_pred(X, y, df_test):\n",
    "    nocreate = df_test.loc[:, df_test.columns != \"created_at\"]\n",
    "    matched_cols = nocreate.loc[:, nocreate.columns != \"delivery_id\"]\n",
    "    #fit XGBoost model\n",
    "    cv = RepeatedKFold(n_splits=10, n_repeats=1, random_state=0)\n",
    "    xg = xgb.XGBRegressor(objective='reg:squarederror',\n",
    "                          n_estimators= 150, max_depth= None,\n",
    "                          min_child_weight= 5, colsample_bytree= 0.9\n",
    "                          ) \n",
    "    \n",
    "    results = xg.fit(X, y)\n",
    "    df_test[\"predicted_delivery_duration\"] = results.predict(matched_cols)\n",
    "    return df_test[['delivery_id','predicted_delivery_duration']]"
   ]
  },
  {
   "cell_type": "code",
   "execution_count": 60,
   "id": "75cb19db",
   "metadata": {},
   "outputs": [
    {
     "data": {
      "text/html": [
       "<div>\n",
       "<style scoped>\n",
       "    .dataframe tbody tr th:only-of-type {\n",
       "        vertical-align: middle;\n",
       "    }\n",
       "\n",
       "    .dataframe tbody tr th {\n",
       "        vertical-align: top;\n",
       "    }\n",
       "\n",
       "    .dataframe thead th {\n",
       "        text-align: right;\n",
       "    }\n",
       "</style>\n",
       "<table border=\"1\" class=\"dataframe\">\n",
       "  <thead>\n",
       "    <tr style=\"text-align: right;\">\n",
       "      <th></th>\n",
       "      <th>delivery_id</th>\n",
       "      <th>predicted_delivery_duration</th>\n",
       "    </tr>\n",
       "  </thead>\n",
       "  <tbody>\n",
       "    <tr>\n",
       "      <th>0</th>\n",
       "      <td>194096</td>\n",
       "      <td>4011.081055</td>\n",
       "    </tr>\n",
       "    <tr>\n",
       "      <th>1</th>\n",
       "      <td>236895</td>\n",
       "      <td>3127.365479</td>\n",
       "    </tr>\n",
       "    <tr>\n",
       "      <th>2</th>\n",
       "      <td>190868</td>\n",
       "      <td>3756.062988</td>\n",
       "    </tr>\n",
       "    <tr>\n",
       "      <th>3</th>\n",
       "      <td>183076</td>\n",
       "      <td>3560.550537</td>\n",
       "    </tr>\n",
       "    <tr>\n",
       "      <th>4</th>\n",
       "      <td>186200</td>\n",
       "      <td>2440.060791</td>\n",
       "    </tr>\n",
       "  </tbody>\n",
       "</table>\n",
       "</div>"
      ],
      "text/plain": [
       "   delivery_id  predicted_delivery_duration\n",
       "0       194096                  4011.081055\n",
       "1       236895                  3127.365479\n",
       "2       190868                  3756.062988\n",
       "3       183076                  3560.550537\n",
       "4       186200                  2440.060791"
      ]
     },
     "execution_count": 60,
     "metadata": {},
     "output_type": "execute_result"
    }
   ],
   "source": [
    "df_pred_final = test_set_pred(infeature, y, df_test)\n",
    "df_pred_final.head()"
   ]
  },
  {
   "cell_type": "code",
   "execution_count": 61,
   "id": "26b6458b",
   "metadata": {},
   "outputs": [],
   "source": [
    "df_pred_final.to_csv('data_to_predict.csv')"
   ]
  }
 ],
 "metadata": {
  "kernelspec": {
   "display_name": "Python 3",
   "language": "python",
   "name": "python3"
  },
  "language_info": {
   "codemirror_mode": {
    "name": "ipython",
    "version": 3
   },
   "file_extension": ".py",
   "mimetype": "text/x-python",
   "name": "python",
   "nbconvert_exporter": "python",
   "pygments_lexer": "ipython3",
   "version": "3.8.8"
  }
 },
 "nbformat": 4,
 "nbformat_minor": 5
}
